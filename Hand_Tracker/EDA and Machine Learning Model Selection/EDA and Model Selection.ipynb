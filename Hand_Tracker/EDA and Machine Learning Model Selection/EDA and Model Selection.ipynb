{
 "cells": [
  {
   "cell_type": "markdown",
   "id": "ca0b1521",
   "metadata": {
    "id": "L1I4NKFWxPmz",
    "papermill": {
     "duration": 0.02108,
     "end_time": "2023-07-07T05:44:49.409113",
     "exception": false,
     "start_time": "2023-07-07T05:44:49.388033",
     "status": "completed"
    },
    "tags": []
   },
   "source": [
    "# Data Analysis And Model Preparation For Stone-Paper-Scissor\n",
    "    -> Stone-Paper-Scissor is a web app project which enables users to play the renowned \"Stone Paper Scissors\" game.\n",
    "    -> User's movements are captured using the camera, and get classified into one of the three classes."
   ]
  },
  {
   "cell_type": "markdown",
   "id": "677cda05",
   "metadata": {
    "id": "S3xq8aqxxe4n",
    "papermill": {
     "duration": 0.018348,
     "end_time": "2023-07-07T05:44:49.446929",
     "exception": false,
     "start_time": "2023-07-07T05:44:49.428581",
     "status": "completed"
    },
    "tags": []
   },
   "source": [
    "### Data Collection\n",
    "    -> Samples were collected manually using Mediapipe(an open source framework by Google for media processing).\n",
    "    -> Webcam was used to get frames for the three classes, and then the features(coordinates) were extracted using Mediapipe.\n",
    "\n",
    "### About Data\n",
    "    -> Each Sample in the dataset consists of 21 key points for hand recognition\n",
    "    -> Each keypoint represented by it's corresponding x and y coordinates.\n",
    "    -> So, the input contains 21*2 = 42 different features.\n",
    "    -> The dataset used contains around 45k examples.\n",
    "    -> Each example represents either \"Stone\", \"Paper\" or \"Scissor\"."
   ]
  },
  {
   "cell_type": "code",
   "execution_count": 1,
   "id": "4298e726",
   "metadata": {
    "execution": {
     "iopub.execute_input": "2023-07-07T05:44:49.486927Z",
     "iopub.status.busy": "2023-07-07T05:44:49.486378Z",
     "iopub.status.idle": "2023-07-07T05:44:53.029343Z",
     "shell.execute_reply": "2023-07-07T05:44:53.028215Z"
    },
    "id": "z-3dfKXNLFJD",
    "papermill": {
     "duration": 3.566503,
     "end_time": "2023-07-07T05:44:53.032320",
     "exception": false,
     "start_time": "2023-07-07T05:44:49.465817",
     "status": "completed"
    },
    "tags": []
   },
   "outputs": [
    {
     "data": {
      "text/html": [
       "<style type='text/css'>\n",
       ".datatable table.frame { margin-bottom: 0; }\n",
       ".datatable table.frame thead { border-bottom: none; }\n",
       ".datatable table.frame tr.coltypes td {  color: #FFFFFF;  line-height: 6px;  padding: 0 0.5em;}\n",
       ".datatable .bool    { background: #DDDD99; }\n",
       ".datatable .object  { background: #565656; }\n",
       ".datatable .int     { background: #5D9E5D; }\n",
       ".datatable .float   { background: #4040CC; }\n",
       ".datatable .str     { background: #CC4040; }\n",
       ".datatable .time    { background: #40CC40; }\n",
       ".datatable .row_index {  background: var(--jp-border-color3);  border-right: 1px solid var(--jp-border-color0);  color: var(--jp-ui-font-color3);  font-size: 9px;}\n",
       ".datatable .frame tbody td { text-align: left; }\n",
       ".datatable .frame tr.coltypes .row_index {  background: var(--jp-border-color0);}\n",
       ".datatable th:nth-child(2) { padding-left: 12px; }\n",
       ".datatable .hellipsis {  color: var(--jp-cell-editor-border-color);}\n",
       ".datatable .vellipsis {  background: var(--jp-layout-color0);  color: var(--jp-cell-editor-border-color);}\n",
       ".datatable .na {  color: var(--jp-cell-editor-border-color);  font-size: 80%;}\n",
       ".datatable .sp {  opacity: 0.25;}\n",
       ".datatable .footer { font-size: 9px; }\n",
       ".datatable .frame_dimensions {  background: var(--jp-border-color3);  border-top: 1px solid var(--jp-border-color0);  color: var(--jp-ui-font-color3);  display: inline-block;  opacity: 0.6;  padding: 1px 10px 1px 5px;}\n",
       "</style>\n"
      ],
      "text/plain": [
       "<IPython.core.display.HTML object>"
      ]
     },
     "metadata": {},
     "output_type": "display_data"
    }
   ],
   "source": [
    "# Importing necessary dependencies\n",
    "\n",
    "import numpy as np\n",
    "import pandas as pd\n",
    "import cv2\n",
    "import os\n",
    "import h5py\n",
    "import matplotlib.pyplot as plt\n",
    "from skimage import feature\n",
    "import seaborn as sns\n",
    "import math\n",
    "from datetime import datetime\n",
    "import sklearn\n",
    "import joblib\n",
    "\n",
    "\n",
    "from sklearn.model_selection import KFold, RepeatedStratifiedKFold, GridSearchCV, train_test_split\n",
    "from sklearn.preprocessing import StandardScaler\n",
    "from sklearn.decomposition import PCA\n",
    "from sklearn.pipeline import Pipeline, make_pipeline\n",
    "from sklearn.preprocessing import LabelEncoder\n",
    "from sklearn.base import BaseEstimator, TransformerMixin\n",
    "\n",
    "from sklearn.svm import SVC\n",
    "from sklearn.ensemble import RandomForestClassifier, AdaBoostClassifier, GradientBoostingClassifier\n",
    "from xgboost import XGBClassifier\n",
    "from sklearn.naive_bayes import GaussianNB\n",
    "from sklearn.linear_model import LogisticRegression\n",
    "from sklearn.neighbors import KNeighborsClassifier\n",
    "from lightgbm import LGBMClassifier\n",
    "from sklearn.tree import DecisionTreeClassifier\n",
    "\n",
    "from sklearn.metrics import accuracy_score, precision_score, recall_score, f1_score, roc_auc_score, confusion_matrix, make_scorer"
   ]
  },
  {
   "cell_type": "code",
   "execution_count": 2,
   "id": "c962cf76",
   "metadata": {
    "execution": {
     "iopub.execute_input": "2023-07-07T05:44:53.073530Z",
     "iopub.status.busy": "2023-07-07T05:44:53.072952Z",
     "iopub.status.idle": "2023-07-07T05:44:53.904474Z",
     "shell.execute_reply": "2023-07-07T05:44:53.902647Z"
    },
    "id": "TKHnLnJVuIvv",
    "papermill": {
     "duration": 0.856994,
     "end_time": "2023-07-07T05:44:53.908890",
     "exception": false,
     "start_time": "2023-07-07T05:44:53.051896",
     "status": "completed"
    },
    "tags": []
   },
   "outputs": [],
   "source": [
    "# loading dataset\n",
    "data = pd.read_csv('../input/stone-paper-scissors-hand-landmarks-dataset/data.csv')"
   ]
  },
  {
   "cell_type": "code",
   "execution_count": 3,
   "id": "e0c7afc1",
   "metadata": {
    "execution": {
     "iopub.execute_input": "2023-07-07T05:44:53.950778Z",
     "iopub.status.busy": "2023-07-07T05:44:53.949787Z",
     "iopub.status.idle": "2023-07-07T05:44:53.986229Z",
     "shell.execute_reply": "2023-07-07T05:44:53.985255Z"
    },
    "id": "_dTGet0ZujLi",
    "outputId": "26969ec2-d00f-4343-a37e-cb0cf551fc4d",
    "papermill": {
     "duration": 0.059778,
     "end_time": "2023-07-07T05:44:53.989163",
     "exception": false,
     "start_time": "2023-07-07T05:44:53.929385",
     "status": "completed"
    },
    "tags": []
   },
   "outputs": [
    {
     "data": {
      "text/html": [
       "<div>\n",
       "<style scoped>\n",
       "    .dataframe tbody tr th:only-of-type {\n",
       "        vertical-align: middle;\n",
       "    }\n",
       "\n",
       "    .dataframe tbody tr th {\n",
       "        vertical-align: top;\n",
       "    }\n",
       "\n",
       "    .dataframe thead th {\n",
       "        text-align: right;\n",
       "    }\n",
       "</style>\n",
       "<table border=\"1\" class=\"dataframe\">\n",
       "  <thead>\n",
       "    <tr style=\"text-align: right;\">\n",
       "      <th></th>\n",
       "      <th>0_x</th>\n",
       "      <th>0_y</th>\n",
       "      <th>1_x</th>\n",
       "      <th>1_y</th>\n",
       "      <th>2_x</th>\n",
       "      <th>2_y</th>\n",
       "      <th>3_x</th>\n",
       "      <th>3_y</th>\n",
       "      <th>4_x</th>\n",
       "      <th>4_y</th>\n",
       "      <th>...</th>\n",
       "      <th>16_y</th>\n",
       "      <th>17_x</th>\n",
       "      <th>17_y</th>\n",
       "      <th>18_x</th>\n",
       "      <th>18_y</th>\n",
       "      <th>19_x</th>\n",
       "      <th>19_y</th>\n",
       "      <th>20_x</th>\n",
       "      <th>20_y</th>\n",
       "      <th>Category</th>\n",
       "    </tr>\n",
       "  </thead>\n",
       "  <tbody>\n",
       "    <tr>\n",
       "      <th>0</th>\n",
       "      <td>0.620448</td>\n",
       "      <td>0.616574</td>\n",
       "      <td>0.590011</td>\n",
       "      <td>0.537064</td>\n",
       "      <td>0.577106</td>\n",
       "      <td>0.442460</td>\n",
       "      <td>0.574392</td>\n",
       "      <td>0.358051</td>\n",
       "      <td>0.555631</td>\n",
       "      <td>0.297962</td>\n",
       "      <td>...</td>\n",
       "      <td>0.320809</td>\n",
       "      <td>0.710040</td>\n",
       "      <td>0.527919</td>\n",
       "      <td>0.759093</td>\n",
       "      <td>0.461097</td>\n",
       "      <td>0.791235</td>\n",
       "      <td>0.425651</td>\n",
       "      <td>0.817787</td>\n",
       "      <td>0.391883</td>\n",
       "      <td>Paper</td>\n",
       "    </tr>\n",
       "    <tr>\n",
       "      <th>1</th>\n",
       "      <td>0.793385</td>\n",
       "      <td>0.601346</td>\n",
       "      <td>0.759365</td>\n",
       "      <td>0.550227</td>\n",
       "      <td>0.748562</td>\n",
       "      <td>0.505328</td>\n",
       "      <td>0.731791</td>\n",
       "      <td>0.478341</td>\n",
       "      <td>0.720204</td>\n",
       "      <td>0.463190</td>\n",
       "      <td>...</td>\n",
       "      <td>0.500592</td>\n",
       "      <td>0.794161</td>\n",
       "      <td>0.496951</td>\n",
       "      <td>0.739818</td>\n",
       "      <td>0.491090</td>\n",
       "      <td>0.734723</td>\n",
       "      <td>0.512681</td>\n",
       "      <td>0.744312</td>\n",
       "      <td>0.524284</td>\n",
       "      <td>Scissor</td>\n",
       "    </tr>\n",
       "    <tr>\n",
       "      <th>2</th>\n",
       "      <td>0.569872</td>\n",
       "      <td>0.368590</td>\n",
       "      <td>0.619827</td>\n",
       "      <td>0.360140</td>\n",
       "      <td>0.659398</td>\n",
       "      <td>0.314017</td>\n",
       "      <td>0.660076</td>\n",
       "      <td>0.254015</td>\n",
       "      <td>0.634577</td>\n",
       "      <td>0.216759</td>\n",
       "      <td>...</td>\n",
       "      <td>0.301853</td>\n",
       "      <td>0.557915</td>\n",
       "      <td>0.232007</td>\n",
       "      <td>0.596949</td>\n",
       "      <td>0.229729</td>\n",
       "      <td>0.597537</td>\n",
       "      <td>0.268840</td>\n",
       "      <td>0.584087</td>\n",
       "      <td>0.282801</td>\n",
       "      <td>Stone</td>\n",
       "    </tr>\n",
       "    <tr>\n",
       "      <th>3</th>\n",
       "      <td>0.321641</td>\n",
       "      <td>0.613728</td>\n",
       "      <td>0.361642</td>\n",
       "      <td>0.560630</td>\n",
       "      <td>0.380633</td>\n",
       "      <td>0.514779</td>\n",
       "      <td>0.393544</td>\n",
       "      <td>0.493892</td>\n",
       "      <td>0.400883</td>\n",
       "      <td>0.494755</td>\n",
       "      <td>...</td>\n",
       "      <td>0.519609</td>\n",
       "      <td>0.310169</td>\n",
       "      <td>0.524453</td>\n",
       "      <td>0.365341</td>\n",
       "      <td>0.517301</td>\n",
       "      <td>0.385874</td>\n",
       "      <td>0.518706</td>\n",
       "      <td>0.392552</td>\n",
       "      <td>0.515370</td>\n",
       "      <td>Scissor</td>\n",
       "    </tr>\n",
       "    <tr>\n",
       "      <th>4</th>\n",
       "      <td>0.767176</td>\n",
       "      <td>0.946333</td>\n",
       "      <td>0.773455</td>\n",
       "      <td>0.867742</td>\n",
       "      <td>0.766660</td>\n",
       "      <td>0.783190</td>\n",
       "      <td>0.750389</td>\n",
       "      <td>0.717175</td>\n",
       "      <td>0.748243</td>\n",
       "      <td>0.663134</td>\n",
       "      <td>...</td>\n",
       "      <td>0.778219</td>\n",
       "      <td>0.668358</td>\n",
       "      <td>0.910875</td>\n",
       "      <td>0.616880</td>\n",
       "      <td>0.892322</td>\n",
       "      <td>0.583505</td>\n",
       "      <td>0.882723</td>\n",
       "      <td>0.554441</td>\n",
       "      <td>0.872217</td>\n",
       "      <td>Paper</td>\n",
       "    </tr>\n",
       "  </tbody>\n",
       "</table>\n",
       "<p>5 rows × 43 columns</p>\n",
       "</div>"
      ],
      "text/plain": [
       "        0_x       0_y       1_x       1_y       2_x       2_y       3_x  \\\n",
       "0  0.620448  0.616574  0.590011  0.537064  0.577106  0.442460  0.574392   \n",
       "1  0.793385  0.601346  0.759365  0.550227  0.748562  0.505328  0.731791   \n",
       "2  0.569872  0.368590  0.619827  0.360140  0.659398  0.314017  0.660076   \n",
       "3  0.321641  0.613728  0.361642  0.560630  0.380633  0.514779  0.393544   \n",
       "4  0.767176  0.946333  0.773455  0.867742  0.766660  0.783190  0.750389   \n",
       "\n",
       "        3_y       4_x       4_y  ...      16_y      17_x      17_y      18_x  \\\n",
       "0  0.358051  0.555631  0.297962  ...  0.320809  0.710040  0.527919  0.759093   \n",
       "1  0.478341  0.720204  0.463190  ...  0.500592  0.794161  0.496951  0.739818   \n",
       "2  0.254015  0.634577  0.216759  ...  0.301853  0.557915  0.232007  0.596949   \n",
       "3  0.493892  0.400883  0.494755  ...  0.519609  0.310169  0.524453  0.365341   \n",
       "4  0.717175  0.748243  0.663134  ...  0.778219  0.668358  0.910875  0.616880   \n",
       "\n",
       "       18_y      19_x      19_y      20_x      20_y  Category  \n",
       "0  0.461097  0.791235  0.425651  0.817787  0.391883     Paper  \n",
       "1  0.491090  0.734723  0.512681  0.744312  0.524284   Scissor  \n",
       "2  0.229729  0.597537  0.268840  0.584087  0.282801     Stone  \n",
       "3  0.517301  0.385874  0.518706  0.392552  0.515370   Scissor  \n",
       "4  0.892322  0.583505  0.882723  0.554441  0.872217     Paper  \n",
       "\n",
       "[5 rows x 43 columns]"
      ]
     },
     "execution_count": 3,
     "metadata": {},
     "output_type": "execute_result"
    }
   ],
   "source": [
    "data.head()"
   ]
  },
  {
   "cell_type": "code",
   "execution_count": 4,
   "id": "d398c76c",
   "metadata": {
    "execution": {
     "iopub.execute_input": "2023-07-07T05:44:54.031065Z",
     "iopub.status.busy": "2023-07-07T05:44:54.030043Z",
     "iopub.status.idle": "2023-07-07T05:44:54.065799Z",
     "shell.execute_reply": "2023-07-07T05:44:54.064784Z"
    },
    "id": "HO1QU9zfzLfz",
    "outputId": "78d3c70b-6019-429d-d3d0-f2d891ff9150",
    "papermill": {
     "duration": 0.059195,
     "end_time": "2023-07-07T05:44:54.068409",
     "exception": false,
     "start_time": "2023-07-07T05:44:54.009214",
     "status": "completed"
    },
    "tags": []
   },
   "outputs": [
    {
     "name": "stdout",
     "output_type": "stream",
     "text": [
      "<class 'pandas.core.frame.DataFrame'>\n",
      "RangeIndex: 45050 entries, 0 to 45049\n",
      "Data columns (total 43 columns):\n",
      " #   Column    Non-Null Count  Dtype  \n",
      "---  ------    --------------  -----  \n",
      " 0   0_x       45050 non-null  float64\n",
      " 1   0_y       45050 non-null  float64\n",
      " 2   1_x       45050 non-null  float64\n",
      " 3   1_y       45050 non-null  float64\n",
      " 4   2_x       45050 non-null  float64\n",
      " 5   2_y       45050 non-null  float64\n",
      " 6   3_x       45050 non-null  float64\n",
      " 7   3_y       45050 non-null  float64\n",
      " 8   4_x       45050 non-null  float64\n",
      " 9   4_y       45050 non-null  float64\n",
      " 10  5_x       45050 non-null  float64\n",
      " 11  5_y       45050 non-null  float64\n",
      " 12  6_x       45050 non-null  float64\n",
      " 13  6_y       45050 non-null  float64\n",
      " 14  7_x       45050 non-null  float64\n",
      " 15  7_y       45050 non-null  float64\n",
      " 16  8_x       45050 non-null  float64\n",
      " 17  8_y       45050 non-null  float64\n",
      " 18  9_x       45050 non-null  float64\n",
      " 19  9_y       45050 non-null  float64\n",
      " 20  10_x      45050 non-null  float64\n",
      " 21  10_y      45050 non-null  float64\n",
      " 22  11_x      45050 non-null  float64\n",
      " 23  11_y      45050 non-null  float64\n",
      " 24  12_x      45050 non-null  float64\n",
      " 25  12_y      45050 non-null  float64\n",
      " 26  13_x      45050 non-null  float64\n",
      " 27  13_y      45050 non-null  float64\n",
      " 28  14_x      45050 non-null  float64\n",
      " 29  14_y      45050 non-null  float64\n",
      " 30  15_x      45050 non-null  float64\n",
      " 31  15_y      45050 non-null  float64\n",
      " 32  16_x      45050 non-null  float64\n",
      " 33  16_y      45050 non-null  float64\n",
      " 34  17_x      45050 non-null  float64\n",
      " 35  17_y      45050 non-null  float64\n",
      " 36  18_x      45050 non-null  float64\n",
      " 37  18_y      45050 non-null  float64\n",
      " 38  19_x      45050 non-null  float64\n",
      " 39  19_y      45050 non-null  float64\n",
      " 40  20_x      45050 non-null  float64\n",
      " 41  20_y      45050 non-null  float64\n",
      " 42  Category  45050 non-null  object \n",
      "dtypes: float64(42), object(1)\n",
      "memory usage: 14.8+ MB\n"
     ]
    }
   ],
   "source": [
    "data.info()"
   ]
  },
  {
   "cell_type": "code",
   "execution_count": 5,
   "id": "b9b24437",
   "metadata": {
    "execution": {
     "iopub.execute_input": "2023-07-07T05:44:54.111330Z",
     "iopub.status.busy": "2023-07-07T05:44:54.110854Z",
     "iopub.status.idle": "2023-07-07T05:44:54.338217Z",
     "shell.execute_reply": "2023-07-07T05:44:54.337238Z"
    },
    "id": "f2RhXDv61Mh1",
    "outputId": "bc7cfa66-01c7-4802-e70b-dd38ab554f7d",
    "papermill": {
     "duration": 0.2518,
     "end_time": "2023-07-07T05:44:54.340976",
     "exception": false,
     "start_time": "2023-07-07T05:44:54.089176",
     "status": "completed"
    },
    "tags": []
   },
   "outputs": [
    {
     "data": {
      "text/html": [
       "<div>\n",
       "<style scoped>\n",
       "    .dataframe tbody tr th:only-of-type {\n",
       "        vertical-align: middle;\n",
       "    }\n",
       "\n",
       "    .dataframe tbody tr th {\n",
       "        vertical-align: top;\n",
       "    }\n",
       "\n",
       "    .dataframe thead th {\n",
       "        text-align: right;\n",
       "    }\n",
       "</style>\n",
       "<table border=\"1\" class=\"dataframe\">\n",
       "  <thead>\n",
       "    <tr style=\"text-align: right;\">\n",
       "      <th></th>\n",
       "      <th>0_x</th>\n",
       "      <th>0_y</th>\n",
       "      <th>1_x</th>\n",
       "      <th>1_y</th>\n",
       "      <th>2_x</th>\n",
       "      <th>2_y</th>\n",
       "      <th>3_x</th>\n",
       "      <th>3_y</th>\n",
       "      <th>4_x</th>\n",
       "      <th>4_y</th>\n",
       "      <th>...</th>\n",
       "      <th>16_y</th>\n",
       "      <th>17_x</th>\n",
       "      <th>17_y</th>\n",
       "      <th>18_x</th>\n",
       "      <th>18_y</th>\n",
       "      <th>19_x</th>\n",
       "      <th>19_y</th>\n",
       "      <th>20_x</th>\n",
       "      <th>20_y</th>\n",
       "      <th>Category</th>\n",
       "    </tr>\n",
       "  </thead>\n",
       "  <tbody>\n",
       "    <tr>\n",
       "      <th>count</th>\n",
       "      <td>45050.000000</td>\n",
       "      <td>45050.000000</td>\n",
       "      <td>45050.000000</td>\n",
       "      <td>45050.000000</td>\n",
       "      <td>45050.000000</td>\n",
       "      <td>45050.000000</td>\n",
       "      <td>45050.000000</td>\n",
       "      <td>45050.000000</td>\n",
       "      <td>45050.000000</td>\n",
       "      <td>45050.000000</td>\n",
       "      <td>...</td>\n",
       "      <td>45050.000000</td>\n",
       "      <td>45050.000000</td>\n",
       "      <td>45050.000000</td>\n",
       "      <td>45050.000000</td>\n",
       "      <td>45050.000000</td>\n",
       "      <td>45050.000000</td>\n",
       "      <td>45050.000000</td>\n",
       "      <td>45050.000000</td>\n",
       "      <td>45050.000000</td>\n",
       "      <td>45050</td>\n",
       "    </tr>\n",
       "    <tr>\n",
       "      <th>unique</th>\n",
       "      <td>NaN</td>\n",
       "      <td>NaN</td>\n",
       "      <td>NaN</td>\n",
       "      <td>NaN</td>\n",
       "      <td>NaN</td>\n",
       "      <td>NaN</td>\n",
       "      <td>NaN</td>\n",
       "      <td>NaN</td>\n",
       "      <td>NaN</td>\n",
       "      <td>NaN</td>\n",
       "      <td>...</td>\n",
       "      <td>NaN</td>\n",
       "      <td>NaN</td>\n",
       "      <td>NaN</td>\n",
       "      <td>NaN</td>\n",
       "      <td>NaN</td>\n",
       "      <td>NaN</td>\n",
       "      <td>NaN</td>\n",
       "      <td>NaN</td>\n",
       "      <td>NaN</td>\n",
       "      <td>3</td>\n",
       "    </tr>\n",
       "    <tr>\n",
       "      <th>top</th>\n",
       "      <td>NaN</td>\n",
       "      <td>NaN</td>\n",
       "      <td>NaN</td>\n",
       "      <td>NaN</td>\n",
       "      <td>NaN</td>\n",
       "      <td>NaN</td>\n",
       "      <td>NaN</td>\n",
       "      <td>NaN</td>\n",
       "      <td>NaN</td>\n",
       "      <td>NaN</td>\n",
       "      <td>...</td>\n",
       "      <td>NaN</td>\n",
       "      <td>NaN</td>\n",
       "      <td>NaN</td>\n",
       "      <td>NaN</td>\n",
       "      <td>NaN</td>\n",
       "      <td>NaN</td>\n",
       "      <td>NaN</td>\n",
       "      <td>NaN</td>\n",
       "      <td>NaN</td>\n",
       "      <td>Paper</td>\n",
       "    </tr>\n",
       "    <tr>\n",
       "      <th>freq</th>\n",
       "      <td>NaN</td>\n",
       "      <td>NaN</td>\n",
       "      <td>NaN</td>\n",
       "      <td>NaN</td>\n",
       "      <td>NaN</td>\n",
       "      <td>NaN</td>\n",
       "      <td>NaN</td>\n",
       "      <td>NaN</td>\n",
       "      <td>NaN</td>\n",
       "      <td>NaN</td>\n",
       "      <td>...</td>\n",
       "      <td>NaN</td>\n",
       "      <td>NaN</td>\n",
       "      <td>NaN</td>\n",
       "      <td>NaN</td>\n",
       "      <td>NaN</td>\n",
       "      <td>NaN</td>\n",
       "      <td>NaN</td>\n",
       "      <td>NaN</td>\n",
       "      <td>NaN</td>\n",
       "      <td>15050</td>\n",
       "    </tr>\n",
       "    <tr>\n",
       "      <th>mean</th>\n",
       "      <td>0.518611</td>\n",
       "      <td>0.580234</td>\n",
       "      <td>0.520958</td>\n",
       "      <td>0.545479</td>\n",
       "      <td>0.523531</td>\n",
       "      <td>0.509388</td>\n",
       "      <td>0.525988</td>\n",
       "      <td>0.488295</td>\n",
       "      <td>0.527856</td>\n",
       "      <td>0.479334</td>\n",
       "      <td>...</td>\n",
       "      <td>0.481692</td>\n",
       "      <td>0.518972</td>\n",
       "      <td>0.517853</td>\n",
       "      <td>0.520799</td>\n",
       "      <td>0.506729</td>\n",
       "      <td>0.521346</td>\n",
       "      <td>0.508763</td>\n",
       "      <td>0.521288</td>\n",
       "      <td>0.508146</td>\n",
       "      <td>NaN</td>\n",
       "    </tr>\n",
       "    <tr>\n",
       "      <th>std</th>\n",
       "      <td>0.234706</td>\n",
       "      <td>0.216410</td>\n",
       "      <td>0.228548</td>\n",
       "      <td>0.208667</td>\n",
       "      <td>0.227467</td>\n",
       "      <td>0.206545</td>\n",
       "      <td>0.230539</td>\n",
       "      <td>0.211877</td>\n",
       "      <td>0.234065</td>\n",
       "      <td>0.218476</td>\n",
       "      <td>...</td>\n",
       "      <td>0.225473</td>\n",
       "      <td>0.241488</td>\n",
       "      <td>0.222135</td>\n",
       "      <td>0.242948</td>\n",
       "      <td>0.225302</td>\n",
       "      <td>0.243331</td>\n",
       "      <td>0.224676</td>\n",
       "      <td>0.244732</td>\n",
       "      <td>0.226893</td>\n",
       "      <td>NaN</td>\n",
       "    </tr>\n",
       "    <tr>\n",
       "      <th>min</th>\n",
       "      <td>-0.121575</td>\n",
       "      <td>-0.054421</td>\n",
       "      <td>-0.060702</td>\n",
       "      <td>-0.033044</td>\n",
       "      <td>-0.042887</td>\n",
       "      <td>0.015470</td>\n",
       "      <td>-0.083954</td>\n",
       "      <td>-0.017472</td>\n",
       "      <td>-0.106092</td>\n",
       "      <td>-0.093882</td>\n",
       "      <td>...</td>\n",
       "      <td>-0.095434</td>\n",
       "      <td>-0.088948</td>\n",
       "      <td>0.018773</td>\n",
       "      <td>-0.143284</td>\n",
       "      <td>-0.013900</td>\n",
       "      <td>-0.167988</td>\n",
       "      <td>-0.042707</td>\n",
       "      <td>-0.176231</td>\n",
       "      <td>-0.067498</td>\n",
       "      <td>NaN</td>\n",
       "    </tr>\n",
       "    <tr>\n",
       "      <th>25%</th>\n",
       "      <td>0.322979</td>\n",
       "      <td>0.424290</td>\n",
       "      <td>0.333143</td>\n",
       "      <td>0.389076</td>\n",
       "      <td>0.341697</td>\n",
       "      <td>0.346845</td>\n",
       "      <td>0.345083</td>\n",
       "      <td>0.319492</td>\n",
       "      <td>0.344749</td>\n",
       "      <td>0.307390</td>\n",
       "      <td>...</td>\n",
       "      <td>0.307806</td>\n",
       "      <td>0.319048</td>\n",
       "      <td>0.337034</td>\n",
       "      <td>0.323293</td>\n",
       "      <td>0.325986</td>\n",
       "      <td>0.327235</td>\n",
       "      <td>0.331125</td>\n",
       "      <td>0.327217</td>\n",
       "      <td>0.330808</td>\n",
       "      <td>NaN</td>\n",
       "    </tr>\n",
       "    <tr>\n",
       "      <th>50%</th>\n",
       "      <td>0.513519</td>\n",
       "      <td>0.575814</td>\n",
       "      <td>0.513638</td>\n",
       "      <td>0.539129</td>\n",
       "      <td>0.517069</td>\n",
       "      <td>0.505285</td>\n",
       "      <td>0.521624</td>\n",
       "      <td>0.482632</td>\n",
       "      <td>0.520364</td>\n",
       "      <td>0.473339</td>\n",
       "      <td>...</td>\n",
       "      <td>0.484980</td>\n",
       "      <td>0.513972</td>\n",
       "      <td>0.513906</td>\n",
       "      <td>0.515816</td>\n",
       "      <td>0.505316</td>\n",
       "      <td>0.516263</td>\n",
       "      <td>0.505633</td>\n",
       "      <td>0.516815</td>\n",
       "      <td>0.508234</td>\n",
       "      <td>NaN</td>\n",
       "    </tr>\n",
       "    <tr>\n",
       "      <th>75%</th>\n",
       "      <td>0.728605</td>\n",
       "      <td>0.756300</td>\n",
       "      <td>0.723517</td>\n",
       "      <td>0.711246</td>\n",
       "      <td>0.723024</td>\n",
       "      <td>0.676821</td>\n",
       "      <td>0.725845</td>\n",
       "      <td>0.665988</td>\n",
       "      <td>0.725642</td>\n",
       "      <td>0.664712</td>\n",
       "      <td>...</td>\n",
       "      <td>0.663899</td>\n",
       "      <td>0.734827</td>\n",
       "      <td>0.703515</td>\n",
       "      <td>0.732905</td>\n",
       "      <td>0.697572</td>\n",
       "      <td>0.731056</td>\n",
       "      <td>0.697995</td>\n",
       "      <td>0.731321</td>\n",
       "      <td>0.696292</td>\n",
       "      <td>NaN</td>\n",
       "    </tr>\n",
       "    <tr>\n",
       "      <th>max</th>\n",
       "      <td>1.160751</td>\n",
       "      <td>1.096713</td>\n",
       "      <td>1.103307</td>\n",
       "      <td>1.058837</td>\n",
       "      <td>1.041358</td>\n",
       "      <td>1.043912</td>\n",
       "      <td>1.050572</td>\n",
       "      <td>1.048255</td>\n",
       "      <td>1.092232</td>\n",
       "      <td>1.060158</td>\n",
       "      <td>...</td>\n",
       "      <td>1.101383</td>\n",
       "      <td>1.025306</td>\n",
       "      <td>1.049377</td>\n",
       "      <td>1.050809</td>\n",
       "      <td>1.085176</td>\n",
       "      <td>1.117356</td>\n",
       "      <td>1.095742</td>\n",
       "      <td>1.180906</td>\n",
       "      <td>1.113977</td>\n",
       "      <td>NaN</td>\n",
       "    </tr>\n",
       "  </tbody>\n",
       "</table>\n",
       "<p>11 rows × 43 columns</p>\n",
       "</div>"
      ],
      "text/plain": [
       "                 0_x           0_y           1_x           1_y           2_x  \\\n",
       "count   45050.000000  45050.000000  45050.000000  45050.000000  45050.000000   \n",
       "unique           NaN           NaN           NaN           NaN           NaN   \n",
       "top              NaN           NaN           NaN           NaN           NaN   \n",
       "freq             NaN           NaN           NaN           NaN           NaN   \n",
       "mean        0.518611      0.580234      0.520958      0.545479      0.523531   \n",
       "std         0.234706      0.216410      0.228548      0.208667      0.227467   \n",
       "min        -0.121575     -0.054421     -0.060702     -0.033044     -0.042887   \n",
       "25%         0.322979      0.424290      0.333143      0.389076      0.341697   \n",
       "50%         0.513519      0.575814      0.513638      0.539129      0.517069   \n",
       "75%         0.728605      0.756300      0.723517      0.711246      0.723024   \n",
       "max         1.160751      1.096713      1.103307      1.058837      1.041358   \n",
       "\n",
       "                 2_y           3_x           3_y           4_x           4_y  \\\n",
       "count   45050.000000  45050.000000  45050.000000  45050.000000  45050.000000   \n",
       "unique           NaN           NaN           NaN           NaN           NaN   \n",
       "top              NaN           NaN           NaN           NaN           NaN   \n",
       "freq             NaN           NaN           NaN           NaN           NaN   \n",
       "mean        0.509388      0.525988      0.488295      0.527856      0.479334   \n",
       "std         0.206545      0.230539      0.211877      0.234065      0.218476   \n",
       "min         0.015470     -0.083954     -0.017472     -0.106092     -0.093882   \n",
       "25%         0.346845      0.345083      0.319492      0.344749      0.307390   \n",
       "50%         0.505285      0.521624      0.482632      0.520364      0.473339   \n",
       "75%         0.676821      0.725845      0.665988      0.725642      0.664712   \n",
       "max         1.043912      1.050572      1.048255      1.092232      1.060158   \n",
       "\n",
       "        ...          16_y          17_x          17_y          18_x  \\\n",
       "count   ...  45050.000000  45050.000000  45050.000000  45050.000000   \n",
       "unique  ...           NaN           NaN           NaN           NaN   \n",
       "top     ...           NaN           NaN           NaN           NaN   \n",
       "freq    ...           NaN           NaN           NaN           NaN   \n",
       "mean    ...      0.481692      0.518972      0.517853      0.520799   \n",
       "std     ...      0.225473      0.241488      0.222135      0.242948   \n",
       "min     ...     -0.095434     -0.088948      0.018773     -0.143284   \n",
       "25%     ...      0.307806      0.319048      0.337034      0.323293   \n",
       "50%     ...      0.484980      0.513972      0.513906      0.515816   \n",
       "75%     ...      0.663899      0.734827      0.703515      0.732905   \n",
       "max     ...      1.101383      1.025306      1.049377      1.050809   \n",
       "\n",
       "                18_y          19_x          19_y          20_x          20_y  \\\n",
       "count   45050.000000  45050.000000  45050.000000  45050.000000  45050.000000   \n",
       "unique           NaN           NaN           NaN           NaN           NaN   \n",
       "top              NaN           NaN           NaN           NaN           NaN   \n",
       "freq             NaN           NaN           NaN           NaN           NaN   \n",
       "mean        0.506729      0.521346      0.508763      0.521288      0.508146   \n",
       "std         0.225302      0.243331      0.224676      0.244732      0.226893   \n",
       "min        -0.013900     -0.167988     -0.042707     -0.176231     -0.067498   \n",
       "25%         0.325986      0.327235      0.331125      0.327217      0.330808   \n",
       "50%         0.505316      0.516263      0.505633      0.516815      0.508234   \n",
       "75%         0.697572      0.731056      0.697995      0.731321      0.696292   \n",
       "max         1.085176      1.117356      1.095742      1.180906      1.113977   \n",
       "\n",
       "        Category  \n",
       "count      45050  \n",
       "unique         3  \n",
       "top        Paper  \n",
       "freq       15050  \n",
       "mean         NaN  \n",
       "std          NaN  \n",
       "min          NaN  \n",
       "25%          NaN  \n",
       "50%          NaN  \n",
       "75%          NaN  \n",
       "max          NaN  \n",
       "\n",
       "[11 rows x 43 columns]"
      ]
     },
     "execution_count": 5,
     "metadata": {},
     "output_type": "execute_result"
    }
   ],
   "source": [
    "data.describe(include = 'all')"
   ]
  },
  {
   "cell_type": "code",
   "execution_count": 6,
   "id": "5e755c9f",
   "metadata": {
    "execution": {
     "iopub.execute_input": "2023-07-07T05:44:54.384867Z",
     "iopub.status.busy": "2023-07-07T05:44:54.384440Z",
     "iopub.status.idle": "2023-07-07T05:44:54.611348Z",
     "shell.execute_reply": "2023-07-07T05:44:54.610506Z"
    },
    "id": "r6Pg2G6G4KQY",
    "outputId": "53955587-e782-4b49-cfb2-2119474df8a5",
    "papermill": {
     "duration": 0.251529,
     "end_time": "2023-07-07T05:44:54.613908",
     "exception": false,
     "start_time": "2023-07-07T05:44:54.362379",
     "status": "completed"
    },
    "tags": []
   },
   "outputs": [
    {
     "data": {
      "text/plain": [
       "<BarContainer object of 3 artists>"
      ]
     },
     "execution_count": 6,
     "metadata": {},
     "output_type": "execute_result"
    },
    {
     "data": {
      "image/png": "[encoded data removed]",
      "text/plain": [
       "<Figure size 432x288 with 1 Axes>"
      ]
     },
     "metadata": {
      "needs_background": "light"
     },
     "output_type": "display_data"
    }
   ],
   "source": [
    "plt.bar(x =data['Category'].value_counts().index, height =  data['Category'].value_counts())"
   ]
  },
  {
   "cell_type": "markdown",
   "id": "9b88e5c2",
   "metadata": {
    "id": "yi01rri8xxrY",
    "papermill": {
     "duration": 0.020714,
     "end_time": "2023-07-07T05:44:54.656071",
     "exception": false,
     "start_time": "2023-07-07T05:44:54.635357",
     "status": "completed"
    },
    "tags": []
   },
   "source": [
    "## Visualizing the Dataset"
   ]
  },
  {
   "cell_type": "code",
   "execution_count": 7,
   "id": "2549f27d",
   "metadata": {
    "execution": {
     "iopub.execute_input": "2023-07-07T05:44:54.701256Z",
     "iopub.status.busy": "2023-07-07T05:44:54.699356Z",
     "iopub.status.idle": "2023-07-07T05:44:54.716289Z",
     "shell.execute_reply": "2023-07-07T05:44:54.715349Z"
    },
    "id": "PVjUIQpN0YmZ",
    "papermill": {
     "duration": 0.042125,
     "end_time": "2023-07-07T05:44:54.718928",
     "exception": false,
     "start_time": "2023-07-07T05:44:54.676803",
     "status": "completed"
    },
    "tags": []
   },
   "outputs": [],
   "source": [
    "def view_landmarks(landmarks):\n",
    "    images = []\n",
    "    for idx in range(len(landmarks)):\n",
    "        img = np.zeros((256, 256, 3), dtype=np.uint8)\n",
    "        landmark = landmarks.iloc[idx]\n",
    "        lms = [(int(landmark[2*i]*256), int(landmark[2*i+1]*256)) for i in range(21)]\n",
    "        for idx, lm in enumerate(lms):\n",
    "\n",
    "            # Plot wrist as green\n",
    "            if(idx == 0):\n",
    "                img = cv2.circle(img, lm, radius = 1, color = (0, 255, 0), thickness = 2)\n",
    "            elif(idx % 4 == 0):\n",
    "                img = cv2.circle(img, lm, radius = 1, color = (255, 0, 0), thickness = 2)\n",
    "            else:\n",
    "                img = cv2.circle(img, lm, radius = 1, color = (255, 255, 255), thickness = 2)\n",
    "\n",
    "\n",
    "        images.append((img, landmark[42]))\n",
    "    return images\n",
    "\n",
    "def plot_landmarks(landmarks, name:str = None):\n",
    "    # Plot 16 landmarks at random\n",
    "    fig, axes = plt.subplots(3, 3, figsize = (20, 20))\n",
    "    axarr = axes.flat\n",
    "    images = view_landmarks(landmarks)\n",
    "\n",
    "    for i, axis in enumerate(axarr):\n",
    "        axis.imshow(images[i][0])\n",
    "        axis.set_title(images[i][1], fontdict = {'family': 'Serif', 'fontsize': 30})\n",
    "        axis.axis('off')\n",
    "        axis.set_title\n",
    "    \n",
    "    plt.subplots_adjust(\n",
    "    left=0.1,\n",
    "    bottom = 0.1,\n",
    "    right=0.9,\n",
    "    top = 0.9,\n",
    "    wspace=0.1,\n",
    "    hspace = 0.3    \n",
    "    )\n",
    "    if name:\n",
    "        fig.savefig(name)\n",
    "    \n"
   ]
  },
  {
   "cell_type": "code",
   "execution_count": 8,
   "id": "d0d3d1b9",
   "metadata": {
    "execution": {
     "iopub.execute_input": "2023-07-07T05:44:54.763484Z",
     "iopub.status.busy": "2023-07-07T05:44:54.762447Z",
     "iopub.status.idle": "2023-07-07T05:44:55.957816Z",
     "shell.execute_reply": "2023-07-07T05:44:55.957055Z"
    },
    "id": "4UN5YBHEEfrs",
    "outputId": "5fa39bf1-f6a4-4041-e24b-cbc764898142",
    "papermill": {
     "duration": 1.220811,
     "end_time": "2023-07-07T05:44:55.960697",
     "exception": false,
     "start_time": "2023-07-07T05:44:54.739886",
     "status": "completed"
    },
    "tags": []
   },
   "outputs": [
    {
     "data": {
      "image/png": "[encoded data removed]",
      "text/plain": [
       "<Figure size 1440x1440 with 9 Axes>"
      ]
     },
     "metadata": {
      "needs_background": "light"
     },
     "output_type": "display_data"
    }
   ],
   "source": [
    "plot_landmarks(data.sample(n = 9), name = \"Landmarks_plot.jpeg\")\n",
    "# Green point denotes the wrist, and Red ones denotes the tips of fingers."
   ]
  },
  {
   "cell_type": "code",
   "execution_count": 9,
   "id": "e2a0c54a",
   "metadata": {
    "execution": {
     "iopub.execute_input": "2023-07-07T05:44:56.007444Z",
     "iopub.status.busy": "2023-07-07T05:44:56.006669Z",
     "iopub.status.idle": "2023-07-07T05:44:56.011515Z",
     "shell.execute_reply": "2023-07-07T05:44:56.010589Z"
    },
    "id": "ehrbVH3PX0Op",
    "papermill": {
     "duration": 0.030475,
     "end_time": "2023-07-07T05:44:56.013888",
     "exception": false,
     "start_time": "2023-07-07T05:44:55.983413",
     "status": "completed"
    },
    "tags": []
   },
   "outputs": [],
   "source": [
    "encoder = {\n",
    "    \"Stone\": 0,\n",
    "    \"Paper\": 1,\n",
    "    \"Scissor\": 2\n",
    "}\n",
    "labels = [\"Stone\", \"Paper\", \"Scissor\"]\n",
    "\n",
    "# Convert the labels into encoded format\n",
    "# data['Category'] = [encoder[i] for i in data['Category']]"
   ]
  },
  {
   "cell_type": "markdown",
   "id": "47439e0e",
   "metadata": {
    "id": "HXHdR5jKL9Lm",
    "papermill": {
     "duration": 0.021536,
     "end_time": "2023-07-07T05:44:56.058059",
     "exception": false,
     "start_time": "2023-07-07T05:44:56.036523",
     "status": "completed"
    },
    "tags": []
   },
   "source": [
    "### Analysis from above plots\n",
    "    -> We can observe that the plots resemble the pattern similar to their mentioned class.\n",
    "    -> The plots seem to be localized in a very small area of the images.\n",
    "    -> Their position on plot has no value our classification.\n",
    "    -> Rather, we care about the pattern they form together."
   ]
  },
  {
   "cell_type": "markdown",
   "id": "8cab2458",
   "metadata": {
    "id": "Usknb9wZMwv-",
    "papermill": {
     "duration": 0.021458,
     "end_time": "2023-07-07T05:44:56.101300",
     "exception": false,
     "start_time": "2023-07-07T05:44:56.079842",
     "status": "completed"
    },
    "tags": []
   },
   "source": [
    "## Feature Transformation\n",
    "    -> All the landmarks of a given example are centerd with respect to the position of wrist."
   ]
  },
  {
   "cell_type": "code",
   "execution_count": 10,
   "id": "d6ee2841",
   "metadata": {
    "execution": {
     "iopub.execute_input": "2023-07-07T05:44:56.147589Z",
     "iopub.status.busy": "2023-07-07T05:44:56.147049Z",
     "iopub.status.idle": "2023-07-07T05:44:56.201391Z",
     "shell.execute_reply": "2023-07-07T05:44:56.200402Z"
    },
    "id": "_Ae25618L8SA",
    "papermill": {
     "duration": 0.08122,
     "end_time": "2023-07-07T05:44:56.204331",
     "exception": false,
     "start_time": "2023-07-07T05:44:56.123111",
     "status": "completed"
    },
    "tags": []
   },
   "outputs": [],
   "source": [
    "# Let's first check by relocating the landmarks to center\n",
    "data.iloc[:, [2*i for i in range(21)]] = data.iloc[:, [2*i for i in range(21)]] - data.iloc[:, [0 for i in range(21)]].values + 0.5\n",
    "data.iloc[:, [(2*i)+1 for i in range(21)]] = data.iloc[:, [(2*i)+1 for i in range(21)]] - data.iloc[:, [1 for i in range(21)]].values + 0.5"
   ]
  },
  {
   "cell_type": "code",
   "execution_count": 11,
   "id": "b021ce14",
   "metadata": {
    "execution": {
     "iopub.execute_input": "2023-07-07T05:44:56.251443Z",
     "iopub.status.busy": "2023-07-07T05:44:56.251007Z",
     "iopub.status.idle": "2023-07-07T05:44:57.312368Z",
     "shell.execute_reply": "2023-07-07T05:44:57.311222Z"
    },
    "id": "lihtu5leo3k1",
    "outputId": "2e49b96c-d7ec-4c2b-dbe1-4437da7d26c0",
    "papermill": {
     "duration": 1.088416,
     "end_time": "2023-07-07T05:44:57.315235",
     "exception": false,
     "start_time": "2023-07-07T05:44:56.226819",
     "status": "completed"
    },
    "tags": []
   },
   "outputs": [
    {
     "data": {
      "image/png": "[encoded data removed]",
      "text/plain": [
       "<Figure size 1440x1440 with 9 Axes>"
      ]
     },
     "metadata": {
      "needs_background": "light"
     },
     "output_type": "display_data"
    }
   ],
   "source": [
    "plot_landmarks(data.sample(n = 16), 'centered_lms')"
   ]
  },
  {
   "cell_type": "markdown",
   "id": "549e2ab5",
   "metadata": {
    "id": "01hFNmKgpryM",
    "papermill": {
     "duration": 0.023224,
     "end_time": "2023-07-07T05:44:57.361746",
     "exception": false,
     "start_time": "2023-07-07T05:44:57.338522",
     "status": "completed"
    },
    "tags": []
   },
   "source": [
    "## Observations-\n",
    "    -> The wrist landmark always lies at center of the plot.\n",
    "    -> We shall relocate all the landmarks to 0, 0 for better model training."
   ]
  },
  {
   "cell_type": "code",
   "execution_count": 12,
   "id": "526db3fb",
   "metadata": {
    "execution": {
     "iopub.execute_input": "2023-07-07T05:44:57.410175Z",
     "iopub.status.busy": "2023-07-07T05:44:57.409754Z",
     "iopub.status.idle": "2023-07-07T05:44:57.449091Z",
     "shell.execute_reply": "2023-07-07T05:44:57.447999Z"
    },
    "id": "2ngIahiZV3Rm",
    "papermill": {
     "duration": 0.066656,
     "end_time": "2023-07-07T05:44:57.451870",
     "exception": false,
     "start_time": "2023-07-07T05:44:57.385214",
     "status": "completed"
    },
    "tags": []
   },
   "outputs": [],
   "source": [
    "# Landmarks are relocated wrt wrist\n",
    "data.iloc[:, [2*i for i in range(21)]] = data.iloc[:, [2*i for i in range(21)]] - data.iloc[:, [0 for i in range(21)]].values\n",
    "data.iloc[:, [(2*i)+1 for i in range(21)]] = data.iloc[:, [(2*i)+1 for i in range(21)]] - data.iloc[:, [1 for i in range(21)]].values\n",
    "\n",
    "# The wrist is always at 0, 0\n",
    "# So, we drop that column\n",
    "data.drop(columns = ['0_x', '0_y'], inplace = True)"
   ]
  },
  {
   "cell_type": "code",
   "execution_count": 13,
   "id": "4d0cc4c1",
   "metadata": {
    "execution": {
     "iopub.execute_input": "2023-07-07T05:44:57.499817Z",
     "iopub.status.busy": "2023-07-07T05:44:57.499421Z",
     "iopub.status.idle": "2023-07-07T05:44:57.526621Z",
     "shell.execute_reply": "2023-07-07T05:44:57.525625Z"
    },
    "id": "xDOVyoW7RYyw",
    "outputId": "5b54c371-da6b-48e0-d6a6-430908e378f3",
    "papermill": {
     "duration": 0.053995,
     "end_time": "2023-07-07T05:44:57.528899",
     "exception": false,
     "start_time": "2023-07-07T05:44:57.474904",
     "status": "completed"
    },
    "tags": []
   },
   "outputs": [
    {
     "data": {
      "text/html": [
       "<div>\n",
       "<style scoped>\n",
       "    .dataframe tbody tr th:only-of-type {\n",
       "        vertical-align: middle;\n",
       "    }\n",
       "\n",
       "    .dataframe tbody tr th {\n",
       "        vertical-align: top;\n",
       "    }\n",
       "\n",
       "    .dataframe thead th {\n",
       "        text-align: right;\n",
       "    }\n",
       "</style>\n",
       "<table border=\"1\" class=\"dataframe\">\n",
       "  <thead>\n",
       "    <tr style=\"text-align: right;\">\n",
       "      <th></th>\n",
       "      <th>1_x</th>\n",
       "      <th>1_y</th>\n",
       "      <th>2_x</th>\n",
       "      <th>2_y</th>\n",
       "      <th>3_x</th>\n",
       "      <th>3_y</th>\n",
       "      <th>4_x</th>\n",
       "      <th>4_y</th>\n",
       "      <th>5_x</th>\n",
       "      <th>5_y</th>\n",
       "      <th>...</th>\n",
       "      <th>16_y</th>\n",
       "      <th>17_x</th>\n",
       "      <th>17_y</th>\n",
       "      <th>18_x</th>\n",
       "      <th>18_y</th>\n",
       "      <th>19_x</th>\n",
       "      <th>19_y</th>\n",
       "      <th>20_x</th>\n",
       "      <th>20_y</th>\n",
       "      <th>Category</th>\n",
       "    </tr>\n",
       "  </thead>\n",
       "  <tbody>\n",
       "    <tr>\n",
       "      <th>0</th>\n",
       "      <td>-0.030437</td>\n",
       "      <td>-0.079509</td>\n",
       "      <td>-0.043342</td>\n",
       "      <td>-0.174114</td>\n",
       "      <td>-0.046055</td>\n",
       "      <td>-0.258523</td>\n",
       "      <td>-0.064817</td>\n",
       "      <td>-0.318612</td>\n",
       "      <td>-0.014166</td>\n",
       "      <td>-0.183927</td>\n",
       "      <td>...</td>\n",
       "      <td>-0.295765</td>\n",
       "      <td>0.089592</td>\n",
       "      <td>-0.088654</td>\n",
       "      <td>0.138645</td>\n",
       "      <td>-0.155476</td>\n",
       "      <td>0.170787</td>\n",
       "      <td>-0.190923</td>\n",
       "      <td>0.197339</td>\n",
       "      <td>-0.224691</td>\n",
       "      <td>Paper</td>\n",
       "    </tr>\n",
       "    <tr>\n",
       "      <th>1</th>\n",
       "      <td>-0.034020</td>\n",
       "      <td>-0.051119</td>\n",
       "      <td>-0.044823</td>\n",
       "      <td>-0.096018</td>\n",
       "      <td>-0.061594</td>\n",
       "      <td>-0.123005</td>\n",
       "      <td>-0.073181</td>\n",
       "      <td>-0.138157</td>\n",
       "      <td>0.009554</td>\n",
       "      <td>-0.165082</td>\n",
       "      <td>...</td>\n",
       "      <td>-0.100754</td>\n",
       "      <td>0.000776</td>\n",
       "      <td>-0.104395</td>\n",
       "      <td>-0.053567</td>\n",
       "      <td>-0.110256</td>\n",
       "      <td>-0.058662</td>\n",
       "      <td>-0.088666</td>\n",
       "      <td>-0.049073</td>\n",
       "      <td>-0.077062</td>\n",
       "      <td>Scissor</td>\n",
       "    </tr>\n",
       "    <tr>\n",
       "      <th>2</th>\n",
       "      <td>0.049955</td>\n",
       "      <td>-0.008450</td>\n",
       "      <td>0.089526</td>\n",
       "      <td>-0.054573</td>\n",
       "      <td>0.090204</td>\n",
       "      <td>-0.114574</td>\n",
       "      <td>0.064706</td>\n",
       "      <td>-0.151831</td>\n",
       "      <td>0.063375</td>\n",
       "      <td>-0.111993</td>\n",
       "      <td>...</td>\n",
       "      <td>-0.066737</td>\n",
       "      <td>-0.011956</td>\n",
       "      <td>-0.136583</td>\n",
       "      <td>0.027077</td>\n",
       "      <td>-0.138860</td>\n",
       "      <td>0.027665</td>\n",
       "      <td>-0.099750</td>\n",
       "      <td>0.014216</td>\n",
       "      <td>-0.085789</td>\n",
       "      <td>Stone</td>\n",
       "    </tr>\n",
       "    <tr>\n",
       "      <th>3</th>\n",
       "      <td>0.040001</td>\n",
       "      <td>-0.053098</td>\n",
       "      <td>0.058992</td>\n",
       "      <td>-0.098948</td>\n",
       "      <td>0.071903</td>\n",
       "      <td>-0.119836</td>\n",
       "      <td>0.079242</td>\n",
       "      <td>-0.118973</td>\n",
       "      <td>0.009058</td>\n",
       "      <td>-0.175427</td>\n",
       "      <td>...</td>\n",
       "      <td>-0.094119</td>\n",
       "      <td>-0.011472</td>\n",
       "      <td>-0.089275</td>\n",
       "      <td>0.043700</td>\n",
       "      <td>-0.096426</td>\n",
       "      <td>0.064233</td>\n",
       "      <td>-0.095022</td>\n",
       "      <td>0.070911</td>\n",
       "      <td>-0.098358</td>\n",
       "      <td>Scissor</td>\n",
       "    </tr>\n",
       "    <tr>\n",
       "      <th>4</th>\n",
       "      <td>0.006279</td>\n",
       "      <td>-0.078590</td>\n",
       "      <td>-0.000516</td>\n",
       "      <td>-0.163143</td>\n",
       "      <td>-0.016787</td>\n",
       "      <td>-0.229158</td>\n",
       "      <td>-0.018933</td>\n",
       "      <td>-0.283199</td>\n",
       "      <td>-0.039673</td>\n",
       "      <td>-0.160805</td>\n",
       "      <td>...</td>\n",
       "      <td>-0.168114</td>\n",
       "      <td>-0.098818</td>\n",
       "      <td>-0.035457</td>\n",
       "      <td>-0.150296</td>\n",
       "      <td>-0.054011</td>\n",
       "      <td>-0.183671</td>\n",
       "      <td>-0.063610</td>\n",
       "      <td>-0.212735</td>\n",
       "      <td>-0.074116</td>\n",
       "      <td>Paper</td>\n",
       "    </tr>\n",
       "  </tbody>\n",
       "</table>\n",
       "<p>5 rows × 41 columns</p>\n",
       "</div>"
      ],
      "text/plain": [
       "        1_x       1_y       2_x       2_y       3_x       3_y       4_x  \\\n",
       "0 -0.030437 -0.079509 -0.043342 -0.174114 -0.046055 -0.258523 -0.064817   \n",
       "1 -0.034020 -0.051119 -0.044823 -0.096018 -0.061594 -0.123005 -0.073181   \n",
       "2  0.049955 -0.008450  0.089526 -0.054573  0.090204 -0.114574  0.064706   \n",
       "3  0.040001 -0.053098  0.058992 -0.098948  0.071903 -0.119836  0.079242   \n",
       "4  0.006279 -0.078590 -0.000516 -0.163143 -0.016787 -0.229158 -0.018933   \n",
       "\n",
       "        4_y       5_x       5_y  ...      16_y      17_x      17_y      18_x  \\\n",
       "0 -0.318612 -0.014166 -0.183927  ... -0.295765  0.089592 -0.088654  0.138645   \n",
       "1 -0.138157  0.009554 -0.165082  ... -0.100754  0.000776 -0.104395 -0.053567   \n",
       "2 -0.151831  0.063375 -0.111993  ... -0.066737 -0.011956 -0.136583  0.027077   \n",
       "3 -0.118973  0.009058 -0.175427  ... -0.094119 -0.011472 -0.089275  0.043700   \n",
       "4 -0.283199 -0.039673 -0.160805  ... -0.168114 -0.098818 -0.035457 -0.150296   \n",
       "\n",
       "       18_y      19_x      19_y      20_x      20_y  Category  \n",
       "0 -0.155476  0.170787 -0.190923  0.197339 -0.224691     Paper  \n",
       "1 -0.110256 -0.058662 -0.088666 -0.049073 -0.077062   Scissor  \n",
       "2 -0.138860  0.027665 -0.099750  0.014216 -0.085789     Stone  \n",
       "3 -0.096426  0.064233 -0.095022  0.070911 -0.098358   Scissor  \n",
       "4 -0.054011 -0.183671 -0.063610 -0.212735 -0.074116     Paper  \n",
       "\n",
       "[5 rows x 41 columns]"
      ]
     },
     "execution_count": 13,
     "metadata": {},
     "output_type": "execute_result"
    }
   ],
   "source": [
    "data.head()"
   ]
  },
  {
   "cell_type": "markdown",
   "id": "dac7d0b9",
   "metadata": {
    "id": "Lcu0WuE-SdTe",
    "papermill": {
     "duration": 0.022484,
     "end_time": "2023-07-07T05:44:57.574480",
     "exception": false,
     "start_time": "2023-07-07T05:44:57.551996",
     "status": "completed"
    },
    "tags": []
   },
   "source": [
    "## Data Preparation For Model"
   ]
  },
  {
   "cell_type": "code",
   "execution_count": 14,
   "id": "4af92a88",
   "metadata": {
    "execution": {
     "iopub.execute_input": "2023-07-07T05:44:57.622192Z",
     "iopub.status.busy": "2023-07-07T05:44:57.621753Z",
     "iopub.status.idle": "2023-07-07T05:44:58.178998Z",
     "shell.execute_reply": "2023-07-07T05:44:58.177822Z"
    },
    "papermill": {
     "duration": 0.583924,
     "end_time": "2023-07-07T05:44:58.181442",
     "exception": false,
     "start_time": "2023-07-07T05:44:57.597518",
     "status": "completed"
    },
    "tags": []
   },
   "outputs": [
    {
     "data": {
      "text/html": [
       "<div>\n",
       "<style scoped>\n",
       "    .dataframe tbody tr th:only-of-type {\n",
       "        vertical-align: middle;\n",
       "    }\n",
       "\n",
       "    .dataframe tbody tr th {\n",
       "        vertical-align: top;\n",
       "    }\n",
       "\n",
       "    .dataframe thead th {\n",
       "        text-align: right;\n",
       "    }\n",
       "</style>\n",
       "<table border=\"1\" class=\"dataframe\">\n",
       "  <thead>\n",
       "    <tr style=\"text-align: right;\">\n",
       "      <th></th>\n",
       "      <th>0_x</th>\n",
       "      <th>0_y</th>\n",
       "      <th>1_x</th>\n",
       "      <th>1_y</th>\n",
       "      <th>2_x</th>\n",
       "      <th>2_y</th>\n",
       "      <th>3_x</th>\n",
       "      <th>3_y</th>\n",
       "      <th>4_x</th>\n",
       "      <th>4_y</th>\n",
       "      <th>...</th>\n",
       "      <th>16_y</th>\n",
       "      <th>17_x</th>\n",
       "      <th>17_y</th>\n",
       "      <th>18_x</th>\n",
       "      <th>18_y</th>\n",
       "      <th>19_x</th>\n",
       "      <th>19_y</th>\n",
       "      <th>20_x</th>\n",
       "      <th>20_y</th>\n",
       "      <th>Category</th>\n",
       "    </tr>\n",
       "  </thead>\n",
       "  <tbody>\n",
       "    <tr>\n",
       "      <th>0</th>\n",
       "      <td>0.620448</td>\n",
       "      <td>0.616574</td>\n",
       "      <td>0.590011</td>\n",
       "      <td>0.537064</td>\n",
       "      <td>0.577106</td>\n",
       "      <td>0.442460</td>\n",
       "      <td>0.574392</td>\n",
       "      <td>0.358051</td>\n",
       "      <td>0.555631</td>\n",
       "      <td>0.297962</td>\n",
       "      <td>...</td>\n",
       "      <td>0.320809</td>\n",
       "      <td>0.710040</td>\n",
       "      <td>0.527919</td>\n",
       "      <td>0.759093</td>\n",
       "      <td>0.461097</td>\n",
       "      <td>0.791235</td>\n",
       "      <td>0.425651</td>\n",
       "      <td>0.817787</td>\n",
       "      <td>0.391883</td>\n",
       "      <td>Paper</td>\n",
       "    </tr>\n",
       "    <tr>\n",
       "      <th>1</th>\n",
       "      <td>0.793385</td>\n",
       "      <td>0.601346</td>\n",
       "      <td>0.759365</td>\n",
       "      <td>0.550227</td>\n",
       "      <td>0.748562</td>\n",
       "      <td>0.505328</td>\n",
       "      <td>0.731791</td>\n",
       "      <td>0.478341</td>\n",
       "      <td>0.720204</td>\n",
       "      <td>0.463190</td>\n",
       "      <td>...</td>\n",
       "      <td>0.500592</td>\n",
       "      <td>0.794161</td>\n",
       "      <td>0.496951</td>\n",
       "      <td>0.739818</td>\n",
       "      <td>0.491090</td>\n",
       "      <td>0.734723</td>\n",
       "      <td>0.512681</td>\n",
       "      <td>0.744312</td>\n",
       "      <td>0.524284</td>\n",
       "      <td>Scissor</td>\n",
       "    </tr>\n",
       "    <tr>\n",
       "      <th>2</th>\n",
       "      <td>0.569872</td>\n",
       "      <td>0.368590</td>\n",
       "      <td>0.619827</td>\n",
       "      <td>0.360140</td>\n",
       "      <td>0.659398</td>\n",
       "      <td>0.314017</td>\n",
       "      <td>0.660076</td>\n",
       "      <td>0.254015</td>\n",
       "      <td>0.634577</td>\n",
       "      <td>0.216759</td>\n",
       "      <td>...</td>\n",
       "      <td>0.301853</td>\n",
       "      <td>0.557915</td>\n",
       "      <td>0.232007</td>\n",
       "      <td>0.596949</td>\n",
       "      <td>0.229729</td>\n",
       "      <td>0.597537</td>\n",
       "      <td>0.268840</td>\n",
       "      <td>0.584087</td>\n",
       "      <td>0.282801</td>\n",
       "      <td>Stone</td>\n",
       "    </tr>\n",
       "    <tr>\n",
       "      <th>3</th>\n",
       "      <td>0.321641</td>\n",
       "      <td>0.613728</td>\n",
       "      <td>0.361642</td>\n",
       "      <td>0.560630</td>\n",
       "      <td>0.380633</td>\n",
       "      <td>0.514779</td>\n",
       "      <td>0.393544</td>\n",
       "      <td>0.493892</td>\n",
       "      <td>0.400883</td>\n",
       "      <td>0.494755</td>\n",
       "      <td>...</td>\n",
       "      <td>0.519609</td>\n",
       "      <td>0.310169</td>\n",
       "      <td>0.524453</td>\n",
       "      <td>0.365341</td>\n",
       "      <td>0.517301</td>\n",
       "      <td>0.385874</td>\n",
       "      <td>0.518706</td>\n",
       "      <td>0.392552</td>\n",
       "      <td>0.515370</td>\n",
       "      <td>Scissor</td>\n",
       "    </tr>\n",
       "    <tr>\n",
       "      <th>4</th>\n",
       "      <td>0.767176</td>\n",
       "      <td>0.946333</td>\n",
       "      <td>0.773455</td>\n",
       "      <td>0.867742</td>\n",
       "      <td>0.766660</td>\n",
       "      <td>0.783190</td>\n",
       "      <td>0.750389</td>\n",
       "      <td>0.717175</td>\n",
       "      <td>0.748243</td>\n",
       "      <td>0.663134</td>\n",
       "      <td>...</td>\n",
       "      <td>0.778219</td>\n",
       "      <td>0.668358</td>\n",
       "      <td>0.910875</td>\n",
       "      <td>0.616880</td>\n",
       "      <td>0.892322</td>\n",
       "      <td>0.583505</td>\n",
       "      <td>0.882723</td>\n",
       "      <td>0.554441</td>\n",
       "      <td>0.872217</td>\n",
       "      <td>Paper</td>\n",
       "    </tr>\n",
       "  </tbody>\n",
       "</table>\n",
       "<p>5 rows × 43 columns</p>\n",
       "</div>"
      ],
      "text/plain": [
       "        0_x       0_y       1_x       1_y       2_x       2_y       3_x  \\\n",
       "0  0.620448  0.616574  0.590011  0.537064  0.577106  0.442460  0.574392   \n",
       "1  0.793385  0.601346  0.759365  0.550227  0.748562  0.505328  0.731791   \n",
       "2  0.569872  0.368590  0.619827  0.360140  0.659398  0.314017  0.660076   \n",
       "3  0.321641  0.613728  0.361642  0.560630  0.380633  0.514779  0.393544   \n",
       "4  0.767176  0.946333  0.773455  0.867742  0.766660  0.783190  0.750389   \n",
       "\n",
       "        3_y       4_x       4_y  ...      16_y      17_x      17_y      18_x  \\\n",
       "0  0.358051  0.555631  0.297962  ...  0.320809  0.710040  0.527919  0.759093   \n",
       "1  0.478341  0.720204  0.463190  ...  0.500592  0.794161  0.496951  0.739818   \n",
       "2  0.254015  0.634577  0.216759  ...  0.301853  0.557915  0.232007  0.596949   \n",
       "3  0.493892  0.400883  0.494755  ...  0.519609  0.310169  0.524453  0.365341   \n",
       "4  0.717175  0.748243  0.663134  ...  0.778219  0.668358  0.910875  0.616880   \n",
       "\n",
       "       18_y      19_x      19_y      20_x      20_y  Category  \n",
       "0  0.461097  0.791235  0.425651  0.817787  0.391883     Paper  \n",
       "1  0.491090  0.734723  0.512681  0.744312  0.524284   Scissor  \n",
       "2  0.229729  0.597537  0.268840  0.584087  0.282801     Stone  \n",
       "3  0.517301  0.385874  0.518706  0.392552  0.515370   Scissor  \n",
       "4  0.892322  0.583505  0.882723  0.554441  0.872217     Paper  \n",
       "\n",
       "[5 rows x 43 columns]"
      ]
     },
     "execution_count": 14,
     "metadata": {},
     "output_type": "execute_result"
    }
   ],
   "source": [
    "data = pd.read_csv(\"/kaggle/input/stone-paper-scissors-hand-landmarks-dataset/data.csv\")\n",
    "data.head()"
   ]
  },
  {
   "cell_type": "markdown",
   "id": "0cf141fd",
   "metadata": {},
   "source": [
    "#### Splitting Data For Training and Testing"
   ]
  },
  {
   "cell_type": "code",
   "execution_count": 15,
   "id": "f088bd15",
   "metadata": {
    "execution": {
     "iopub.execute_input": "2023-07-07T05:44:58.230554Z",
     "iopub.status.busy": "2023-07-07T05:44:58.230127Z",
     "iopub.status.idle": "2023-07-07T05:44:58.268378Z",
     "shell.execute_reply": "2023-07-07T05:44:58.267426Z"
    },
    "papermill": {
     "duration": 0.065952,
     "end_time": "2023-07-07T05:44:58.271111",
     "exception": false,
     "start_time": "2023-07-07T05:44:58.205159",
     "status": "completed"
    },
    "tags": []
   },
   "outputs": [],
   "source": [
    "X_data = data.iloc[:,:-1]\n",
    "Y_data = data.iloc[:,-1]\n",
    "X_train, X_test, Y_train, Y_test = train_test_split(X_data, Y_data, train_size = 0.8)"
   ]
  },
  {
   "cell_type": "code",
   "execution_count": 16,
   "id": "a524b6f5",
   "metadata": {
    "execution": {
     "iopub.execute_input": "2023-07-07T05:44:58.320202Z",
     "iopub.status.busy": "2023-07-07T05:44:58.319758Z",
     "iopub.status.idle": "2023-07-07T05:44:58.325036Z",
     "shell.execute_reply": "2023-07-07T05:44:58.324010Z"
    },
    "papermill": {
     "duration": 0.032578,
     "end_time": "2023-07-07T05:44:58.327262",
     "exception": false,
     "start_time": "2023-07-07T05:44:58.294684",
     "status": "completed"
    },
    "tags": []
   },
   "outputs": [],
   "source": [
    "X_train = X_train.values\n",
    "X_test = X_test.values\n",
    "Y_train = Y_train.values\n",
    "Y_test = Y_test.values"
   ]
  },
  {
   "cell_type": "markdown",
   "id": "9feb4745",
   "metadata": {},
   "source": [
    "#### Custom Transformer for Input Features"
   ]
  },
  {
   "cell_type": "code",
   "execution_count": 17,
   "id": "6c2cac30",
   "metadata": {
    "execution": {
     "iopub.execute_input": "2023-07-07T05:44:58.376214Z",
     "iopub.status.busy": "2023-07-07T05:44:58.375763Z",
     "iopub.status.idle": "2023-07-07T05:44:58.385256Z",
     "shell.execute_reply": "2023-07-07T05:44:58.384280Z"
    },
    "papermill": {
     "duration": 0.036577,
     "end_time": "2023-07-07T05:44:58.387405",
     "exception": false,
     "start_time": "2023-07-07T05:44:58.350828",
     "status": "completed"
    },
    "tags": []
   },
   "outputs": [],
   "source": [
    "class Update_and_drop(BaseEstimator, TransformerMixin):\n",
    "    def __init__(self):\n",
    "        return\n",
    "    def fit(self, X, y = None):\n",
    "        return self\n",
    "    def transform(self, X):\n",
    "        # Shift X-cooordinates for keypoints\n",
    "        X[:, [2*i for i in range(21)]] = X[:, [2*i for i in range(21)]] - X[:, [0 for i in range(21)]]\n",
    "        # Shift Y-coordinates for keypoints\n",
    "        X[:, [(2*i)+1 for i in range(21)]] = X[:, [(2*i)+1 for i in range(21)]] - X[:, [1 for i in range(21)]]\n",
    "        # Drop the first 2 columns - they would always be 0, 0\n",
    "        X = X[:, 2:]\n",
    "        return X"
   ]
  },
  {
   "cell_type": "code",
   "execution_count": 18,
   "id": "21d3cb99",
   "metadata": {
    "execution": {
     "iopub.execute_input": "2023-07-07T05:44:58.436764Z",
     "iopub.status.busy": "2023-07-07T05:44:58.436103Z",
     "iopub.status.idle": "2023-07-07T05:44:58.458328Z",
     "shell.execute_reply": "2023-07-07T05:44:58.457367Z"
    },
    "id": "OOOJk8mmuYeD",
    "papermill": {
     "duration": 0.050131,
     "end_time": "2023-07-07T05:44:58.461008",
     "exception": false,
     "start_time": "2023-07-07T05:44:58.410877",
     "status": "completed"
    },
    "tags": []
   },
   "outputs": [],
   "source": [
    "# Encoding the Target variable\n",
    "encoder = sklearn.preprocessing.LabelEncoder()\n",
    "encoder.fit(['Stone', 'Paper', 'Scissor'])\n",
    "Y_train_encoded = encoder.transform(Y_train)\n",
    "Y_test_encoded = encoder.transform(Y_test)"
   ]
  },
  {
   "cell_type": "markdown",
   "id": "b1ccb470",
   "metadata": {
    "id": "wswqlH5kJgEf",
    "papermill": {
     "duration": 0.022926,
     "end_time": "2023-07-07T05:44:58.563926",
     "exception": false,
     "start_time": "2023-07-07T05:44:58.541000",
     "status": "completed"
    },
    "tags": []
   },
   "source": [
    "## Training Models"
   ]
  },
  {
   "cell_type": "code",
   "execution_count": 20,
   "id": "e48c6b1c",
   "metadata": {
    "execution": {
     "iopub.execute_input": "2023-07-07T05:44:58.612495Z",
     "iopub.status.busy": "2023-07-07T05:44:58.611896Z",
     "iopub.status.idle": "2023-07-07T05:44:58.625419Z",
     "shell.execute_reply": "2023-07-07T05:44:58.624443Z"
    },
    "papermill": {
     "duration": 0.040431,
     "end_time": "2023-07-07T05:44:58.627634",
     "exception": false,
     "start_time": "2023-07-07T05:44:58.587203",
     "status": "completed"
    },
    "tags": []
   },
   "outputs": [
    {
     "name": "stdout",
     "output_type": "stream",
     "text": [
      "dict_keys(['logistic_reg', 'svc', 'knn', 'tree', 'rfc', 'xg_boost', 'lgbm'])\n"
     ]
    }
   ],
   "source": [
    "# Define constants\n",
    "\n",
    "K_SPLITS = 5\n",
    "\n",
    "\n",
    "TRAINING_PARAMETERS = {\n",
    "    'logistic_reg': {'clf__max_iter': [15, 25, 50, 100, 500, 1000, 2000], 'clf__penalty': ['l2']},\n",
    "    'svc': {'clf__C': [10, 50, 200, 500], 'clf__kernel': ['rbf']},\n",
    "    'knn': {'clf__n_neighbors': [3, 5, 7, 9], 'clf__weights': ['uniform'], 'clf__leaf_size': [3, 5, 7, 9]},\n",
    "    'tree': {'clf__max_depth': [70, 100, 150], 'clf__min_samples_split': [5, 10, 15]},\n",
    "    'rfc': {'clf__n_estimators': [200, 250, 300, 400], 'clf__max_features':['log2'], 'clf__max_depth': [5, 10, 15, 20, 25, 50], 'clf__min_samples_split': [4, 5, 6, 7]},\n",
    "    'xg_boost': {'clf__n_estimators': [100, 175, 250], 'clf__learning_rate': [0.01, 0.05, 0.1, 0.5], 'clf__max_depth': [2, 5, 7]},\n",
    "    'lgbm': {'clf__boosting_type': ['goss', 'gbdt'], 'clf__min_child_samples': [2, 3, 5], 'clf__n_estimators': [100, 150, 225, 300]},\n",
    "}\n",
    "\n",
    "TRAINING_MODELS = TRAINING_PARAMETERS.keys()\n",
    "print(TRAINING_MODELS)\n",
    "\n",
    "\n",
    "def load_model(model_name):\n",
    "    training_models = {\n",
    "            'logistic_reg': LogisticRegression(),\n",
    "            'svc': SVC(probability = True),\n",
    "            'rfc': RandomForestClassifier(),\n",
    "            'xg_boost': XGBClassifier(),\n",
    "            'knn': KNeighborsClassifier(),\n",
    "            'lgbm': LGBMClassifier(),\n",
    "            'tree': DecisionTreeClassifier()\n",
    "        }\n",
    "    return training_models[model_name]"
   ]
  },
  {
   "cell_type": "markdown",
   "id": "e6c4c3f0",
   "metadata": {},
   "source": [
    "#### Define Metrics Used to Evaluate Performance of Models"
   ]
  },
  {
   "cell_type": "code",
   "execution_count": 21,
   "id": "b3fe6440",
   "metadata": {
    "execution": {
     "iopub.execute_input": "2023-07-07T05:44:58.676736Z",
     "iopub.status.busy": "2023-07-07T05:44:58.676229Z",
     "iopub.status.idle": "2023-07-07T05:44:58.688399Z",
     "shell.execute_reply": "2023-07-07T05:44:58.687612Z"
    },
    "papermill": {
     "duration": 0.039154,
     "end_time": "2023-07-07T05:44:58.690408",
     "exception": false,
     "start_time": "2023-07-07T05:44:58.651254",
     "status": "completed"
    },
    "tags": []
   },
   "outputs": [],
   "source": [
    "def Macro_Precision(y_true, y_pred):\n",
    "    return precision_score(y_true, y_pred, average = \"macro\")\n",
    "\n",
    "def Micro_Precision(y_true, y_pred):\n",
    "    return precision_score(y_true, y_pred, average = \"micro\")\n",
    "\n",
    "def Macro_F1(y_true, y_pred):\n",
    "    return f1_score(y_true, y_pred, zero_division=0, average = 'macro')\n",
    "\n",
    "def Micro_F1(y_true, y_pred):\n",
    "    return f1_score(y_true, y_pred, zero_division=0, average = 'micro')\n",
    "\n",
    "def Macro_Recall(y_true, y_pred):\n",
    "    return recall_score(y_true, y_pred, zero_division = 0, average = 'macro')\n",
    "\n",
    "def Micro_Recall(y_true, y_pred):\n",
    "    return recall_score(y_true, y_pred, zero_division = 0, average = 'micro')\n",
    "\n",
    "\n",
    "\n",
    "scorers = {\n",
    "    \"Accuracy\": make_scorer(accuracy_score),\n",
    "    \"Macro_Precision\": make_scorer(Macro_Precision),\n",
    "    \"Micro_Precision\": make_scorer(Micro_Precision),\n",
    "    \"Macro_Recall\": make_scorer(Macro_Recall),\n",
    "    \"Micro_Recall\": make_scorer(Micro_Recall),\n",
    "    \"Macro_F1\": make_scorer(Macro_F1),\n",
    "    \"Micro_F1\": make_scorer(Micro_F1)\n",
    "}"
   ]
  },
  {
   "cell_type": "markdown",
   "id": "56c59688",
   "metadata": {},
   "source": [
    "#### Define Training Functions"
   ]
  },
  {
   "cell_type": "code",
   "execution_count": 22,
   "id": "0da18d0c",
   "metadata": {
    "execution": {
     "iopub.execute_input": "2023-07-07T05:44:58.739882Z",
     "iopub.status.busy": "2023-07-07T05:44:58.738931Z",
     "iopub.status.idle": "2023-07-07T05:44:58.752031Z",
     "shell.execute_reply": "2023-07-07T05:44:58.751008Z"
    },
    "papermill": {
     "duration": 0.04018,
     "end_time": "2023-07-07T05:44:58.754319",
     "exception": false,
     "start_time": "2023-07-07T05:44:58.714139",
     "status": "completed"
    },
    "tags": []
   },
   "outputs": [],
   "source": [
    "def train_model(model_name):\n",
    "    training_model = load_model(model_name)\n",
    "    training_params = TRAINING_PARAMETERS[model_name]\n",
    "    pipeline = Pipeline([('transform', Update_and_drop()), ('scaler', StandardScaler()), ('clf', training_model)])\n",
    "    cv = KFold(n_splits = K_SPLITS, shuffle = True, random_state = 7781)\n",
    "    search = GridSearchCV(estimator = pipeline, param_grid = training_params, scoring = scorers, cv = cv, refit = 'Accuracy')\n",
    "    if(model_name == 'xg_boost'):\n",
    "        search.fit(X_train, Y_train_encoded)\n",
    "    else:\n",
    "        search.fit(X_train, Y_train)\n",
    "\n",
    "    results_dict = get_results(search, model_name)\n",
    "    results_dict['Model_Name'] = model_name\n",
    "    \n",
    "    \n",
    "    return results_dict, search.best_estimator_\n",
    "\n",
    "\n",
    "def get_results(search, model_name):\n",
    "    results = search.cv_results_\n",
    "    params = results['params']\n",
    "    best_params = search.best_params_\n",
    "    best_param_idx = params.index(best_params)\n",
    "    return_dict = {}\n",
    "    return_dict['Parameters_Dict'] = best_params\n",
    "\n",
    "    for scorer in list(scorers.keys()):\n",
    "        mean_key_ = f\"mean_test_{scorer}\"\n",
    "        std_key_ = f\"std_test_{scorer}\"\n",
    "        mean_score = \"{:.3f}\".format((results[mean_key_])[best_param_idx])\n",
    "        std_score = \"{:.3f}\".format((results[std_key_])[best_param_idx])\n",
    "        return_dict[scorer] = mean_score + \"+-\" + std_score\n",
    "        \n",
    "        \n",
    "\n",
    "    return return_dict"
   ]
  },
  {
   "cell_type": "code",
   "execution_count": 23,
   "id": "48204180",
   "metadata": {
    "execution": {
     "iopub.execute_input": "2023-07-07T05:44:58.804396Z",
     "iopub.status.busy": "2023-07-07T05:44:58.803603Z",
     "iopub.status.idle": "2023-07-07T05:44:58.816750Z",
     "shell.execute_reply": "2023-07-07T05:44:58.816018Z"
    },
    "id": "cSkZXcR74w-O",
    "papermill": {
     "duration": 0.040824,
     "end_time": "2023-07-07T05:44:58.819139",
     "exception": false,
     "start_time": "2023-07-07T05:44:58.778315",
     "status": "completed"
    },
    "tags": []
   },
   "outputs": [],
   "source": [
    "def train_and_evaluate(model_name):\n",
    "    \n",
    "    results_dict, model = train_model(model_name)                   # Train Model and get results\n",
    "    joblib.dump(model, f\"{model_name}_best_model.pkl\")              # Save the best model trained\n",
    "\n",
    "    # Get Estimated Prediction Time\n",
    "    fit_time = datetime.now()\n",
    "    train_pred = model.predict(X_train)\n",
    "    pred_time = datetime.now()\n",
    "    pred_time = (pred_time - fit_time).total_seconds()\n",
    "    results_dict['Prediction_Time'] = pred_time\n",
    "\n",
    "    # Get Test Predictions\n",
    "    test_pred = model.predict(X_test)\n",
    "    \n",
    "    # Evaluate Models Performance using test predictions\n",
    "    if(model_name == 'xg_boost'):\n",
    "        results_dict['Test_Accuracy'] = accuracy_score(Y_test_encoded, test_pred)\n",
    "        results_dict['Test_Macro_Precision'] = Macro_Precision(Y_test_encoded, test_pred)\n",
    "        results_dict['Test_Micro_Precision'] = Micro_Precision(Y_test_encoded, test_pred)\n",
    "        results_dict['Test_Macro_F1'] = Macro_F1(Y_test_encoded, test_pred)\n",
    "        results_dict['Test_Micro_F1'] = Micro_F1(Y_test_encoded, test_pred)\n",
    "        results_dict['Test_Macro_Recall'] = Macro_Recall(Y_test_encoded, test_pred)\n",
    "        results_dict['Test_Micro_Recall'] = Micro_Recall(Y_test_encoded, test_pred)\n",
    "    else:\n",
    "        results_dict['Test_Accuracy'] = accuracy_score(Y_test, test_pred)\n",
    "        results_dict['Test_Macro_Precision'] = Macro_Precision(Y_test, test_pred)\n",
    "        results_dict['Test_Micro_Precision'] = Micro_Precision(Y_test, test_pred)\n",
    "        results_dict['Test_Macro_F1'] = Macro_F1(Y_test, test_pred)\n",
    "        results_dict['Test_Micro_F1'] = Micro_F1(Y_test, test_pred)\n",
    "        results_dict['Test_Macro_Recall'] = Macro_Recall(Y_test, test_pred)\n",
    "        results_dict['Test_Micro_Recall'] = Micro_Recall(Y_test, test_pred)\n",
    "    \n",
    "    return results_dict"
   ]
  },
  {
   "cell_type": "code",
   "execution_count": 24,
   "id": "6055af68",
   "metadata": {
    "execution": {
     "iopub.execute_input": "2023-07-07T05:44:58.870165Z",
     "iopub.status.busy": "2023-07-07T05:44:58.869436Z",
     "iopub.status.idle": "2023-07-07T05:44:58.874790Z",
     "shell.execute_reply": "2023-07-07T05:44:58.874061Z"
    },
    "id": "yNIRx_bmmuOn",
    "papermill": {
     "duration": 0.033449,
     "end_time": "2023-07-07T05:44:58.877037",
     "exception": false,
     "start_time": "2023-07-07T05:44:58.843588",
     "status": "completed"
    },
    "tags": []
   },
   "outputs": [],
   "source": [
    "# Initialize empty df for results\n",
    "evaluation_df = pd.DataFrame()"
   ]
  },
  {
   "cell_type": "markdown",
   "id": "52d36baf",
   "metadata": {
    "papermill": {
     "duration": 0.023489,
     "end_time": "2023-07-07T05:44:58.924211",
     "exception": false,
     "start_time": "2023-07-07T05:44:58.900722",
     "status": "completed"
    },
    "tags": []
   },
   "source": [
    "## Logistic Regression"
   ]
  },
  {
   "cell_type": "code",
   "execution_count": 25,
   "id": "bb0df80f",
   "metadata": {
    "execution": {
     "iopub.execute_input": "2023-07-07T05:44:58.974838Z",
     "iopub.status.busy": "2023-07-07T05:44:58.974430Z",
     "iopub.status.idle": "2023-07-07T05:44:58.979433Z",
     "shell.execute_reply": "2023-07-07T05:44:58.978391Z"
    },
    "papermill": {
     "duration": 0.032232,
     "end_time": "2023-07-07T05:44:58.981712",
     "exception": false,
     "start_time": "2023-07-07T05:44:58.949480",
     "status": "completed"
    },
    "tags": []
   },
   "outputs": [],
   "source": [
    "import warnings\n",
    "warnings.filterwarnings('ignore')"
   ]
  },
  {
   "cell_type": "code",
   "execution_count": 26,
   "id": "d0e66113",
   "metadata": {
    "execution": {
     "iopub.execute_input": "2023-07-07T05:44:59.032313Z",
     "iopub.status.busy": "2023-07-07T05:44:59.031545Z",
     "iopub.status.idle": "2023-07-07T05:50:05.140537Z",
     "shell.execute_reply": "2023-07-07T05:50:05.139383Z"
    },
    "papermill": {
     "duration": 306.162925,
     "end_time": "2023-07-07T05:50:05.169105",
     "exception": false,
     "start_time": "2023-07-07T05:44:59.006180",
     "status": "completed"
    },
    "tags": []
   },
   "outputs": [
    {
     "data": {
      "text/html": [
       "<div>\n",
       "<style scoped>\n",
       "    .dataframe tbody tr th:only-of-type {\n",
       "        vertical-align: middle;\n",
       "    }\n",
       "\n",
       "    .dataframe tbody tr th {\n",
       "        vertical-align: top;\n",
       "    }\n",
       "\n",
       "    .dataframe thead th {\n",
       "        text-align: right;\n",
       "    }\n",
       "</style>\n",
       "<table border=\"1\" class=\"dataframe\">\n",
       "  <thead>\n",
       "    <tr style=\"text-align: right;\">\n",
       "      <th></th>\n",
       "      <th>Parameters_Dict</th>\n",
       "      <th>Accuracy</th>\n",
       "      <th>Macro_Precision</th>\n",
       "      <th>Micro_Precision</th>\n",
       "      <th>Macro_Recall</th>\n",
       "      <th>Micro_Recall</th>\n",
       "      <th>Macro_F1</th>\n",
       "      <th>Micro_F1</th>\n",
       "      <th>Model_Name</th>\n",
       "      <th>Prediction_Time</th>\n",
       "      <th>Test_Accuracy</th>\n",
       "      <th>Test_Macro_Precision</th>\n",
       "      <th>Test_Micro_Precision</th>\n",
       "      <th>Test_Macro_F1</th>\n",
       "      <th>Test_Micro_F1</th>\n",
       "      <th>Test_Macro_Recall</th>\n",
       "      <th>Test_Micro_Recall</th>\n",
       "    </tr>\n",
       "  </thead>\n",
       "  <tbody>\n",
       "    <tr>\n",
       "      <th>0</th>\n",
       "      <td>{'clf__max_iter': 1000, 'clf__penalty': 'l2'}</td>\n",
       "      <td>0.839+-0.006</td>\n",
       "      <td>0.842+-0.006</td>\n",
       "      <td>0.839+-0.006</td>\n",
       "      <td>0.839+-0.006</td>\n",
       "      <td>0.839+-0.006</td>\n",
       "      <td>0.840+-0.006</td>\n",
       "      <td>0.839+-0.006</td>\n",
       "      <td>logistic_reg</td>\n",
       "      <td>0.03051</td>\n",
       "      <td>0.831632</td>\n",
       "      <td>0.835864</td>\n",
       "      <td>0.831632</td>\n",
       "      <td>0.833107</td>\n",
       "      <td>0.831632</td>\n",
       "      <td>0.831771</td>\n",
       "      <td>0.831632</td>\n",
       "    </tr>\n",
       "  </tbody>\n",
       "</table>\n",
       "</div>"
      ],
      "text/plain": [
       "                                 Parameters_Dict      Accuracy  \\\n",
       "0  {'clf__max_iter': 1000, 'clf__penalty': 'l2'}  0.839+-0.006   \n",
       "\n",
       "  Macro_Precision Micro_Precision  Macro_Recall  Micro_Recall      Macro_F1  \\\n",
       "0    0.842+-0.006    0.839+-0.006  0.839+-0.006  0.839+-0.006  0.840+-0.006   \n",
       "\n",
       "       Micro_F1    Model_Name  Prediction_Time  Test_Accuracy  \\\n",
       "0  0.839+-0.006  logistic_reg          0.03051       0.831632   \n",
       "\n",
       "   Test_Macro_Precision  Test_Micro_Precision  Test_Macro_F1  Test_Micro_F1  \\\n",
       "0              0.835864              0.831632       0.833107       0.831632   \n",
       "\n",
       "   Test_Macro_Recall  Test_Micro_Recall  \n",
       "0           0.831771           0.831632  "
      ]
     },
     "execution_count": 26,
     "metadata": {},
     "output_type": "execute_result"
    }
   ],
   "source": [
    "logistic_reg_metrics = train_and_evaluate('logistic_reg')\n",
    "evaluation_df = evaluation_df.append(logistic_reg_metrics, ignore_index = True)\n",
    "evaluation_df[evaluation_df['Model_Name'] == 'logistic_reg']"
   ]
  },
  {
   "cell_type": "code",
   "execution_count": 27,
   "id": "76d5c94d",
   "metadata": {
    "execution": {
     "iopub.execute_input": "2023-07-07T05:50:05.219759Z",
     "iopub.status.busy": "2023-07-07T05:50:05.219309Z",
     "iopub.status.idle": "2023-07-07T05:50:05.224207Z",
     "shell.execute_reply": "2023-07-07T05:50:05.223361Z"
    },
    "papermill": {
     "duration": 0.033448,
     "end_time": "2023-07-07T05:50:05.227021",
     "exception": false,
     "start_time": "2023-07-07T05:50:05.193573",
     "status": "completed"
    },
    "tags": []
   },
   "outputs": [
    {
     "name": "stdout",
     "output_type": "stream",
     "text": [
      "Logistic Reg completed\n"
     ]
    }
   ],
   "source": [
    "print(\"Logistic Reg completed\")"
   ]
  },
  {
   "cell_type": "markdown",
   "id": "ddcd6947",
   "metadata": {
    "papermill": {
     "duration": 0.023459,
     "end_time": "2023-07-07T05:50:05.274574",
     "exception": false,
     "start_time": "2023-07-07T05:50:05.251115",
     "status": "completed"
    },
    "tags": []
   },
   "source": [
    "## Support Vector Machines Classifier"
   ]
  },
  {
   "cell_type": "code",
   "execution_count": 28,
   "id": "a6c57707",
   "metadata": {
    "execution": {
     "iopub.execute_input": "2023-07-07T05:50:05.324802Z",
     "iopub.status.busy": "2023-07-07T05:50:05.324325Z",
     "iopub.status.idle": "2023-07-07T05:59:47.620089Z",
     "shell.execute_reply": "2023-07-07T05:59:47.619105Z"
    },
    "papermill": {
     "duration": 582.347974,
     "end_time": "2023-07-07T05:59:47.646666",
     "exception": false,
     "start_time": "2023-07-07T05:50:05.298692",
     "status": "completed"
    },
    "tags": []
   },
   "outputs": [
    {
     "data": {
      "text/html": [
       "<div>\n",
       "<style scoped>\n",
       "    .dataframe tbody tr th:only-of-type {\n",
       "        vertical-align: middle;\n",
       "    }\n",
       "\n",
       "    .dataframe tbody tr th {\n",
       "        vertical-align: top;\n",
       "    }\n",
       "\n",
       "    .dataframe thead th {\n",
       "        text-align: right;\n",
       "    }\n",
       "</style>\n",
       "<table border=\"1\" class=\"dataframe\">\n",
       "  <thead>\n",
       "    <tr style=\"text-align: right;\">\n",
       "      <th></th>\n",
       "      <th>Parameters_Dict</th>\n",
       "      <th>Accuracy</th>\n",
       "      <th>Macro_Precision</th>\n",
       "      <th>Micro_Precision</th>\n",
       "      <th>Macro_Recall</th>\n",
       "      <th>Micro_Recall</th>\n",
       "      <th>Macro_F1</th>\n",
       "      <th>Micro_F1</th>\n",
       "      <th>Model_Name</th>\n",
       "      <th>Prediction_Time</th>\n",
       "      <th>Test_Accuracy</th>\n",
       "      <th>Test_Macro_Precision</th>\n",
       "      <th>Test_Micro_Precision</th>\n",
       "      <th>Test_Macro_F1</th>\n",
       "      <th>Test_Micro_F1</th>\n",
       "      <th>Test_Macro_Recall</th>\n",
       "      <th>Test_Micro_Recall</th>\n",
       "    </tr>\n",
       "  </thead>\n",
       "  <tbody>\n",
       "    <tr>\n",
       "      <th>1</th>\n",
       "      <td>{'clf__C': 200, 'clf__kernel': 'rbf'}</td>\n",
       "      <td>0.991+-0.001</td>\n",
       "      <td>0.991+-0.001</td>\n",
       "      <td>0.991+-0.001</td>\n",
       "      <td>0.991+-0.001</td>\n",
       "      <td>0.991+-0.001</td>\n",
       "      <td>0.991+-0.001</td>\n",
       "      <td>0.991+-0.001</td>\n",
       "      <td>svc</td>\n",
       "      <td>4.177809</td>\n",
       "      <td>0.99101</td>\n",
       "      <td>0.990984</td>\n",
       "      <td>0.99101</td>\n",
       "      <td>0.991017</td>\n",
       "      <td>0.99101</td>\n",
       "      <td>0.99107</td>\n",
       "      <td>0.99101</td>\n",
       "    </tr>\n",
       "  </tbody>\n",
       "</table>\n",
       "</div>"
      ],
      "text/plain": [
       "                         Parameters_Dict      Accuracy Macro_Precision  \\\n",
       "1  {'clf__C': 200, 'clf__kernel': 'rbf'}  0.991+-0.001    0.991+-0.001   \n",
       "\n",
       "  Micro_Precision  Macro_Recall  Micro_Recall      Macro_F1      Micro_F1  \\\n",
       "1    0.991+-0.001  0.991+-0.001  0.991+-0.001  0.991+-0.001  0.991+-0.001   \n",
       "\n",
       "  Model_Name  Prediction_Time  Test_Accuracy  Test_Macro_Precision  \\\n",
       "1        svc         4.177809        0.99101              0.990984   \n",
       "\n",
       "   Test_Micro_Precision  Test_Macro_F1  Test_Micro_F1  Test_Macro_Recall  \\\n",
       "1               0.99101       0.991017        0.99101            0.99107   \n",
       "\n",
       "   Test_Micro_Recall  \n",
       "1            0.99101  "
      ]
     },
     "execution_count": 28,
     "metadata": {},
     "output_type": "execute_result"
    }
   ],
   "source": [
    "svc_metrics = train_and_evaluate('svc')\n",
    "evaluation_df = evaluation_df.append(svc_metrics, ignore_index = True)\n",
    "evaluation_df[evaluation_df['Model_Name'] == 'svc']"
   ]
  },
  {
   "cell_type": "code",
   "execution_count": 29,
   "id": "ba4d9518",
   "metadata": {
    "execution": {
     "iopub.execute_input": "2023-07-07T05:59:47.697164Z",
     "iopub.status.busy": "2023-07-07T05:59:47.696670Z",
     "iopub.status.idle": "2023-07-07T05:59:47.701756Z",
     "shell.execute_reply": "2023-07-07T05:59:47.700783Z"
    },
    "papermill": {
     "duration": 0.034341,
     "end_time": "2023-07-07T05:59:47.705310",
     "exception": false,
     "start_time": "2023-07-07T05:59:47.670969",
     "status": "completed"
    },
    "tags": []
   },
   "outputs": [
    {
     "name": "stdout",
     "output_type": "stream",
     "text": [
      "Svc completed\n"
     ]
    }
   ],
   "source": [
    "print(\"Svc completed\")"
   ]
  },
  {
   "cell_type": "markdown",
   "id": "326e214b",
   "metadata": {
    "id": "LIjQZfaecWMC",
    "papermill": {
     "duration": 0.024045,
     "end_time": "2023-07-07T05:59:47.753263",
     "exception": false,
     "start_time": "2023-07-07T05:59:47.729218",
     "status": "completed"
    },
    "tags": []
   },
   "source": [
    "## K Nearest Neighbors Classifier"
   ]
  },
  {
   "cell_type": "code",
   "execution_count": 30,
   "id": "efd1c1d7",
   "metadata": {
    "execution": {
     "iopub.execute_input": "2023-07-07T05:59:47.804011Z",
     "iopub.status.busy": "2023-07-07T05:59:47.803238Z",
     "iopub.status.idle": "2023-07-07T06:06:39.119374Z",
     "shell.execute_reply": "2023-07-07T06:06:39.118217Z"
    },
    "id": "1hmOKohbapc0",
    "papermill": {
     "duration": 411.370801,
     "end_time": "2023-07-07T06:06:39.148460",
     "exception": false,
     "start_time": "2023-07-07T05:59:47.777659",
     "status": "completed"
    },
    "tags": []
   },
   "outputs": [
    {
     "data": {
      "text/html": [
       "<div>\n",
       "<style scoped>\n",
       "    .dataframe tbody tr th:only-of-type {\n",
       "        vertical-align: middle;\n",
       "    }\n",
       "\n",
       "    .dataframe tbody tr th {\n",
       "        vertical-align: top;\n",
       "    }\n",
       "\n",
       "    .dataframe thead th {\n",
       "        text-align: right;\n",
       "    }\n",
       "</style>\n",
       "<table border=\"1\" class=\"dataframe\">\n",
       "  <thead>\n",
       "    <tr style=\"text-align: right;\">\n",
       "      <th></th>\n",
       "      <th>Parameters_Dict</th>\n",
       "      <th>Accuracy</th>\n",
       "      <th>Macro_Precision</th>\n",
       "      <th>Micro_Precision</th>\n",
       "      <th>Macro_Recall</th>\n",
       "      <th>Micro_Recall</th>\n",
       "      <th>Macro_F1</th>\n",
       "      <th>Micro_F1</th>\n",
       "      <th>Model_Name</th>\n",
       "      <th>Prediction_Time</th>\n",
       "      <th>Test_Accuracy</th>\n",
       "      <th>Test_Macro_Precision</th>\n",
       "      <th>Test_Micro_Precision</th>\n",
       "      <th>Test_Macro_F1</th>\n",
       "      <th>Test_Micro_F1</th>\n",
       "      <th>Test_Macro_Recall</th>\n",
       "      <th>Test_Micro_Recall</th>\n",
       "    </tr>\n",
       "  </thead>\n",
       "  <tbody>\n",
       "    <tr>\n",
       "      <th>2</th>\n",
       "      <td>{'clf__leaf_size': 3, 'clf__n_neighbors': 3, '...</td>\n",
       "      <td>0.984+-0.001</td>\n",
       "      <td>0.984+-0.001</td>\n",
       "      <td>0.984+-0.001</td>\n",
       "      <td>0.984+-0.001</td>\n",
       "      <td>0.984+-0.001</td>\n",
       "      <td>0.984+-0.001</td>\n",
       "      <td>0.984+-0.001</td>\n",
       "      <td>knn</td>\n",
       "      <td>20.074598</td>\n",
       "      <td>0.985017</td>\n",
       "      <td>0.985029</td>\n",
       "      <td>0.985017</td>\n",
       "      <td>0.985019</td>\n",
       "      <td>0.985017</td>\n",
       "      <td>0.985155</td>\n",
       "      <td>0.985017</td>\n",
       "    </tr>\n",
       "  </tbody>\n",
       "</table>\n",
       "</div>"
      ],
      "text/plain": [
       "                                     Parameters_Dict      Accuracy  \\\n",
       "2  {'clf__leaf_size': 3, 'clf__n_neighbors': 3, '...  0.984+-0.001   \n",
       "\n",
       "  Macro_Precision Micro_Precision  Macro_Recall  Micro_Recall      Macro_F1  \\\n",
       "2    0.984+-0.001    0.984+-0.001  0.984+-0.001  0.984+-0.001  0.984+-0.001   \n",
       "\n",
       "       Micro_F1 Model_Name  Prediction_Time  Test_Accuracy  \\\n",
       "2  0.984+-0.001        knn        20.074598       0.985017   \n",
       "\n",
       "   Test_Macro_Precision  Test_Micro_Precision  Test_Macro_F1  Test_Micro_F1  \\\n",
       "2              0.985029              0.985017       0.985019       0.985017   \n",
       "\n",
       "   Test_Macro_Recall  Test_Micro_Recall  \n",
       "2           0.985155           0.985017  "
      ]
     },
     "execution_count": 30,
     "metadata": {},
     "output_type": "execute_result"
    }
   ],
   "source": [
    "knn_metrics = train_and_evaluate('knn')\n",
    "evaluation_df = evaluation_df.append(knn_metrics, ignore_index = True)\n",
    "evaluation_df[evaluation_df['Model_Name'] == 'knn']"
   ]
  },
  {
   "cell_type": "code",
   "execution_count": 31,
   "id": "d95a368f",
   "metadata": {
    "execution": {
     "iopub.execute_input": "2023-07-07T06:06:39.200105Z",
     "iopub.status.busy": "2023-07-07T06:06:39.199615Z",
     "iopub.status.idle": "2023-07-07T06:06:39.204973Z",
     "shell.execute_reply": "2023-07-07T06:06:39.203964Z"
    },
    "papermill": {
     "duration": 0.033721,
     "end_time": "2023-07-07T06:06:39.207317",
     "exception": false,
     "start_time": "2023-07-07T06:06:39.173596",
     "status": "completed"
    },
    "tags": []
   },
   "outputs": [
    {
     "name": "stdout",
     "output_type": "stream",
     "text": [
      "KNN completed\n"
     ]
    }
   ],
   "source": [
    "print(\"KNN completed\")"
   ]
  },
  {
   "cell_type": "markdown",
   "id": "8fd4c3c5",
   "metadata": {
    "papermill": {
     "duration": 0.024032,
     "end_time": "2023-07-07T06:06:39.255751",
     "exception": false,
     "start_time": "2023-07-07T06:06:39.231719",
     "status": "completed"
    },
    "tags": []
   },
   "source": [
    "## Decision Tree Classifier"
   ]
  },
  {
   "cell_type": "code",
   "execution_count": 32,
   "id": "61e3b80d",
   "metadata": {
    "execution": {
     "iopub.execute_input": "2023-07-07T06:06:39.306279Z",
     "iopub.status.busy": "2023-07-07T06:06:39.305824Z",
     "iopub.status.idle": "2023-07-07T06:09:19.172213Z",
     "shell.execute_reply": "2023-07-07T06:09:19.171186Z"
    },
    "papermill": {
     "duration": 159.920011,
     "end_time": "2023-07-07T06:09:19.200277",
     "exception": false,
     "start_time": "2023-07-07T06:06:39.280266",
     "status": "completed"
    },
    "tags": []
   },
   "outputs": [
    {
     "data": {
      "text/html": [
       "<div>\n",
       "<style scoped>\n",
       "    .dataframe tbody tr th:only-of-type {\n",
       "        vertical-align: middle;\n",
       "    }\n",
       "\n",
       "    .dataframe tbody tr th {\n",
       "        vertical-align: top;\n",
       "    }\n",
       "\n",
       "    .dataframe thead th {\n",
       "        text-align: right;\n",
       "    }\n",
       "</style>\n",
       "<table border=\"1\" class=\"dataframe\">\n",
       "  <thead>\n",
       "    <tr style=\"text-align: right;\">\n",
       "      <th></th>\n",
       "      <th>Parameters_Dict</th>\n",
       "      <th>Accuracy</th>\n",
       "      <th>Macro_Precision</th>\n",
       "      <th>Micro_Precision</th>\n",
       "      <th>Macro_Recall</th>\n",
       "      <th>Micro_Recall</th>\n",
       "      <th>Macro_F1</th>\n",
       "      <th>Micro_F1</th>\n",
       "      <th>Model_Name</th>\n",
       "      <th>Prediction_Time</th>\n",
       "      <th>Test_Accuracy</th>\n",
       "      <th>Test_Macro_Precision</th>\n",
       "      <th>Test_Micro_Precision</th>\n",
       "      <th>Test_Macro_F1</th>\n",
       "      <th>Test_Micro_F1</th>\n",
       "      <th>Test_Macro_Recall</th>\n",
       "      <th>Test_Micro_Recall</th>\n",
       "    </tr>\n",
       "  </thead>\n",
       "  <tbody>\n",
       "    <tr>\n",
       "      <th>3</th>\n",
       "      <td>{'clf__max_depth': 70, 'clf__min_samples_split...</td>\n",
       "      <td>0.963+-0.002</td>\n",
       "      <td>0.963+-0.002</td>\n",
       "      <td>0.963+-0.002</td>\n",
       "      <td>0.963+-0.002</td>\n",
       "      <td>0.963+-0.002</td>\n",
       "      <td>0.963+-0.002</td>\n",
       "      <td>0.963+-0.002</td>\n",
       "      <td>tree</td>\n",
       "      <td>0.022266</td>\n",
       "      <td>0.965039</td>\n",
       "      <td>0.965127</td>\n",
       "      <td>0.965039</td>\n",
       "      <td>0.965104</td>\n",
       "      <td>0.965039</td>\n",
       "      <td>0.965086</td>\n",
       "      <td>0.965039</td>\n",
       "    </tr>\n",
       "  </tbody>\n",
       "</table>\n",
       "</div>"
      ],
      "text/plain": [
       "                                     Parameters_Dict      Accuracy  \\\n",
       "3  {'clf__max_depth': 70, 'clf__min_samples_split...  0.963+-0.002   \n",
       "\n",
       "  Macro_Precision Micro_Precision  Macro_Recall  Micro_Recall      Macro_F1  \\\n",
       "3    0.963+-0.002    0.963+-0.002  0.963+-0.002  0.963+-0.002  0.963+-0.002   \n",
       "\n",
       "       Micro_F1 Model_Name  Prediction_Time  Test_Accuracy  \\\n",
       "3  0.963+-0.002       tree         0.022266       0.965039   \n",
       "\n",
       "   Test_Macro_Precision  Test_Micro_Precision  Test_Macro_F1  Test_Micro_F1  \\\n",
       "3              0.965127              0.965039       0.965104       0.965039   \n",
       "\n",
       "   Test_Macro_Recall  Test_Micro_Recall  \n",
       "3           0.965086           0.965039  "
      ]
     },
     "execution_count": 32,
     "metadata": {},
     "output_type": "execute_result"
    }
   ],
   "source": [
    "tree_metrics = train_and_evaluate('tree')\n",
    "evaluation_df = evaluation_df.append(tree_metrics, ignore_index = True)\n",
    "evaluation_df[evaluation_df['Model_Name'] == 'tree']"
   ]
  },
  {
   "cell_type": "code",
   "execution_count": 33,
   "id": "d24ce98f",
   "metadata": {
    "execution": {
     "iopub.execute_input": "2023-07-07T06:09:19.251875Z",
     "iopub.status.busy": "2023-07-07T06:09:19.251450Z",
     "iopub.status.idle": "2023-07-07T06:09:19.256999Z",
     "shell.execute_reply": "2023-07-07T06:09:19.255953Z"
    },
    "papermill": {
     "duration": 0.03442,
     "end_time": "2023-07-07T06:09:19.259720",
     "exception": false,
     "start_time": "2023-07-07T06:09:19.225300",
     "status": "completed"
    },
    "tags": []
   },
   "outputs": [
    {
     "name": "stdout",
     "output_type": "stream",
     "text": [
      "Decision Tree Completed\n"
     ]
    }
   ],
   "source": [
    "print(\"Decision Tree Completed\")"
   ]
  },
  {
   "cell_type": "markdown",
   "id": "62a2f046",
   "metadata": {
    "papermill": {
     "duration": 0.024466,
     "end_time": "2023-07-07T06:09:19.309010",
     "exception": false,
     "start_time": "2023-07-07T06:09:19.284544",
     "status": "completed"
    },
    "tags": []
   },
   "source": [
    "## Random Forest Classifier"
   ]
  },
  {
   "cell_type": "code",
   "execution_count": 34,
   "id": "d1ac3da0",
   "metadata": {
    "execution": {
     "iopub.execute_input": "2023-07-07T06:09:19.360115Z",
     "iopub.status.busy": "2023-07-07T06:09:19.359633Z",
     "iopub.status.idle": "2023-07-07T11:59:03.900863Z",
     "shell.execute_reply": "2023-07-07T11:59:03.899845Z"
    },
    "id": "75RD3povnUAI",
    "papermill": {
     "duration": 20984.609089,
     "end_time": "2023-07-07T11:59:03.942766",
     "exception": false,
     "start_time": "2023-07-07T06:09:19.333677",
     "status": "completed"
    },
    "tags": []
   },
   "outputs": [
    {
     "data": {
      "text/html": [
       "<div>\n",
       "<style scoped>\n",
       "    .dataframe tbody tr th:only-of-type {\n",
       "        vertical-align: middle;\n",
       "    }\n",
       "\n",
       "    .dataframe tbody tr th {\n",
       "        vertical-align: top;\n",
       "    }\n",
       "\n",
       "    .dataframe thead th {\n",
       "        text-align: right;\n",
       "    }\n",
       "</style>\n",
       "<table border=\"1\" class=\"dataframe\">\n",
       "  <thead>\n",
       "    <tr style=\"text-align: right;\">\n",
       "      <th></th>\n",
       "      <th>Parameters_Dict</th>\n",
       "      <th>Accuracy</th>\n",
       "      <th>Macro_Precision</th>\n",
       "      <th>Micro_Precision</th>\n",
       "      <th>Macro_Recall</th>\n",
       "      <th>Micro_Recall</th>\n",
       "      <th>Macro_F1</th>\n",
       "      <th>Micro_F1</th>\n",
       "      <th>Model_Name</th>\n",
       "      <th>Prediction_Time</th>\n",
       "      <th>Test_Accuracy</th>\n",
       "      <th>Test_Macro_Precision</th>\n",
       "      <th>Test_Micro_Precision</th>\n",
       "      <th>Test_Macro_F1</th>\n",
       "      <th>Test_Micro_F1</th>\n",
       "      <th>Test_Macro_Recall</th>\n",
       "      <th>Test_Micro_Recall</th>\n",
       "    </tr>\n",
       "  </thead>\n",
       "  <tbody>\n",
       "    <tr>\n",
       "      <th>4</th>\n",
       "      <td>{'clf__max_depth': 50, 'clf__max_features': 'l...</td>\n",
       "      <td>0.983+-0.001</td>\n",
       "      <td>0.983+-0.001</td>\n",
       "      <td>0.983+-0.001</td>\n",
       "      <td>0.983+-0.001</td>\n",
       "      <td>0.983+-0.001</td>\n",
       "      <td>0.983+-0.001</td>\n",
       "      <td>0.983+-0.001</td>\n",
       "      <td>rfc</td>\n",
       "      <td>2.053893</td>\n",
       "      <td>0.983907</td>\n",
       "      <td>0.98391</td>\n",
       "      <td>0.983907</td>\n",
       "      <td>0.983918</td>\n",
       "      <td>0.983907</td>\n",
       "      <td>0.984063</td>\n",
       "      <td>0.983907</td>\n",
       "    </tr>\n",
       "  </tbody>\n",
       "</table>\n",
       "</div>"
      ],
      "text/plain": [
       "                                     Parameters_Dict      Accuracy  \\\n",
       "4  {'clf__max_depth': 50, 'clf__max_features': 'l...  0.983+-0.001   \n",
       "\n",
       "  Macro_Precision Micro_Precision  Macro_Recall  Micro_Recall      Macro_F1  \\\n",
       "4    0.983+-0.001    0.983+-0.001  0.983+-0.001  0.983+-0.001  0.983+-0.001   \n",
       "\n",
       "       Micro_F1 Model_Name  Prediction_Time  Test_Accuracy  \\\n",
       "4  0.983+-0.001        rfc         2.053893       0.983907   \n",
       "\n",
       "   Test_Macro_Precision  Test_Micro_Precision  Test_Macro_F1  Test_Micro_F1  \\\n",
       "4               0.98391              0.983907       0.983918       0.983907   \n",
       "\n",
       "   Test_Macro_Recall  Test_Micro_Recall  \n",
       "4           0.984063           0.983907  "
      ]
     },
     "execution_count": 34,
     "metadata": {},
     "output_type": "execute_result"
    }
   ],
   "source": [
    "rfc_metrics = train_and_evaluate('rfc')\n",
    "evaluation_df = evaluation_df.append(rfc_metrics, ignore_index = True)\n",
    "evaluation_df[evaluation_df['Model_Name'] == 'rfc']"
   ]
  },
  {
   "cell_type": "code",
   "execution_count": 35,
   "id": "83f6d824",
   "metadata": {
    "execution": {
     "iopub.execute_input": "2023-07-07T11:59:04.000587Z",
     "iopub.status.busy": "2023-07-07T11:59:04.000183Z",
     "iopub.status.idle": "2023-07-07T11:59:04.005090Z",
     "shell.execute_reply": "2023-07-07T11:59:04.004011Z"
    },
    "papermill": {
     "duration": 0.036183,
     "end_time": "2023-07-07T11:59:04.008410",
     "exception": false,
     "start_time": "2023-07-07T11:59:03.972227",
     "status": "completed"
    },
    "tags": []
   },
   "outputs": [
    {
     "name": "stdout",
     "output_type": "stream",
     "text": [
      "rfc completed\n"
     ]
    }
   ],
   "source": [
    "print(\"rfc completed\")"
   ]
  },
  {
   "cell_type": "markdown",
   "id": "891f164f",
   "metadata": {
    "papermill": {
     "duration": 0.027944,
     "end_time": "2023-07-07T11:59:04.064747",
     "exception": false,
     "start_time": "2023-07-07T11:59:04.036803",
     "status": "completed"
    },
    "tags": []
   },
   "source": [
    "## Extreme Gradient Boosting Classifier"
   ]
  },
  {
   "cell_type": "code",
   "execution_count": 36,
   "id": "4ffbf1ae",
   "metadata": {
    "execution": {
     "iopub.execute_input": "2023-07-07T11:59:04.120793Z",
     "iopub.status.busy": "2023-07-07T11:59:04.119916Z",
     "iopub.status.idle": "2023-07-07T14:34:20.032873Z",
     "shell.execute_reply": "2023-07-07T14:34:20.031692Z"
    },
    "papermill": {
     "duration": 9315.970988,
     "end_time": "2023-07-07T14:34:20.062648",
     "exception": false,
     "start_time": "2023-07-07T11:59:04.091660",
     "status": "completed"
    },
    "tags": []
   },
   "outputs": [
    {
     "data": {
      "text/html": [
       "<div>\n",
       "<style scoped>\n",
       "    .dataframe tbody tr th:only-of-type {\n",
       "        vertical-align: middle;\n",
       "    }\n",
       "\n",
       "    .dataframe tbody tr th {\n",
       "        vertical-align: top;\n",
       "    }\n",
       "\n",
       "    .dataframe thead th {\n",
       "        text-align: right;\n",
       "    }\n",
       "</style>\n",
       "<table border=\"1\" class=\"dataframe\">\n",
       "  <thead>\n",
       "    <tr style=\"text-align: right;\">\n",
       "      <th></th>\n",
       "      <th>Parameters_Dict</th>\n",
       "      <th>Accuracy</th>\n",
       "      <th>Macro_Precision</th>\n",
       "      <th>Micro_Precision</th>\n",
       "      <th>Macro_Recall</th>\n",
       "      <th>Micro_Recall</th>\n",
       "      <th>Macro_F1</th>\n",
       "      <th>Micro_F1</th>\n",
       "      <th>Model_Name</th>\n",
       "      <th>Prediction_Time</th>\n",
       "      <th>Test_Accuracy</th>\n",
       "      <th>Test_Macro_Precision</th>\n",
       "      <th>Test_Micro_Precision</th>\n",
       "      <th>Test_Macro_F1</th>\n",
       "      <th>Test_Micro_F1</th>\n",
       "      <th>Test_Macro_Recall</th>\n",
       "      <th>Test_Micro_Recall</th>\n",
       "    </tr>\n",
       "  </thead>\n",
       "  <tbody>\n",
       "    <tr>\n",
       "      <th>5</th>\n",
       "      <td>{'clf__learning_rate': 0.5, 'clf__max_depth': ...</td>\n",
       "      <td>0.988+-0.001</td>\n",
       "      <td>0.988+-0.001</td>\n",
       "      <td>0.988+-0.001</td>\n",
       "      <td>0.988+-0.001</td>\n",
       "      <td>0.988+-0.001</td>\n",
       "      <td>0.988+-0.001</td>\n",
       "      <td>0.988+-0.001</td>\n",
       "      <td>xg_boost</td>\n",
       "      <td>0.264851</td>\n",
       "      <td>0.989123</td>\n",
       "      <td>0.989109</td>\n",
       "      <td>0.989123</td>\n",
       "      <td>0.989136</td>\n",
       "      <td>0.989123</td>\n",
       "      <td>0.989236</td>\n",
       "      <td>0.989123</td>\n",
       "    </tr>\n",
       "  </tbody>\n",
       "</table>\n",
       "</div>"
      ],
      "text/plain": [
       "                                     Parameters_Dict      Accuracy  \\\n",
       "5  {'clf__learning_rate': 0.5, 'clf__max_depth': ...  0.988+-0.001   \n",
       "\n",
       "  Macro_Precision Micro_Precision  Macro_Recall  Micro_Recall      Macro_F1  \\\n",
       "5    0.988+-0.001    0.988+-0.001  0.988+-0.001  0.988+-0.001  0.988+-0.001   \n",
       "\n",
       "       Micro_F1 Model_Name  Prediction_Time  Test_Accuracy  \\\n",
       "5  0.988+-0.001   xg_boost         0.264851       0.989123   \n",
       "\n",
       "   Test_Macro_Precision  Test_Micro_Precision  Test_Macro_F1  Test_Micro_F1  \\\n",
       "5              0.989109              0.989123       0.989136       0.989123   \n",
       "\n",
       "   Test_Macro_Recall  Test_Micro_Recall  \n",
       "5           0.989236           0.989123  "
      ]
     },
     "execution_count": 36,
     "metadata": {},
     "output_type": "execute_result"
    }
   ],
   "source": [
    "xg_boost_metrics = train_and_evaluate('xg_boost')\n",
    "evaluation_df = evaluation_df.append(xg_boost_metrics, ignore_index = True)\n",
    "evaluation_df[evaluation_df['Model_Name'] == 'xg_boost']"
   ]
  },
  {
   "cell_type": "code",
   "execution_count": 37,
   "id": "4509f0de",
   "metadata": {
    "execution": {
     "iopub.execute_input": "2023-07-07T14:34:20.116117Z",
     "iopub.status.busy": "2023-07-07T14:34:20.115635Z",
     "iopub.status.idle": "2023-07-07T14:34:20.121271Z",
     "shell.execute_reply": "2023-07-07T14:34:20.120234Z"
    },
    "papermill": {
     "duration": 0.035365,
     "end_time": "2023-07-07T14:34:20.123721",
     "exception": false,
     "start_time": "2023-07-07T14:34:20.088356",
     "status": "completed"
    },
    "tags": []
   },
   "outputs": [
    {
     "name": "stdout",
     "output_type": "stream",
     "text": [
      "xgboost completed\n"
     ]
    }
   ],
   "source": [
    "print(\"xgboost completed\")"
   ]
  },
  {
   "cell_type": "markdown",
   "id": "6c60376a",
   "metadata": {
    "papermill": {
     "duration": 0.026155,
     "end_time": "2023-07-07T14:34:20.176161",
     "exception": false,
     "start_time": "2023-07-07T14:34:20.150006",
     "status": "completed"
    },
    "tags": []
   },
   "source": [
    "## Light Gradient Boosting Machine"
   ]
  },
  {
   "cell_type": "code",
   "execution_count": 38,
   "id": "193a67a9",
   "metadata": {
    "execution": {
     "iopub.execute_input": "2023-07-07T14:34:20.229852Z",
     "iopub.status.busy": "2023-07-07T14:34:20.229387Z",
     "iopub.status.idle": "2023-07-07T14:44:23.752096Z",
     "shell.execute_reply": "2023-07-07T14:44:23.750911Z"
    },
    "papermill": {
     "duration": 603.580408,
     "end_time": "2023-07-07T14:44:23.782583",
     "exception": false,
     "start_time": "2023-07-07T14:34:20.202175",
     "status": "completed"
    },
    "tags": []
   },
   "outputs": [
    {
     "data": {
      "text/html": [
       "<div>\n",
       "<style scoped>\n",
       "    .dataframe tbody tr th:only-of-type {\n",
       "        vertical-align: middle;\n",
       "    }\n",
       "\n",
       "    .dataframe tbody tr th {\n",
       "        vertical-align: top;\n",
       "    }\n",
       "\n",
       "    .dataframe thead th {\n",
       "        text-align: right;\n",
       "    }\n",
       "</style>\n",
       "<table border=\"1\" class=\"dataframe\">\n",
       "  <thead>\n",
       "    <tr style=\"text-align: right;\">\n",
       "      <th></th>\n",
       "      <th>Parameters_Dict</th>\n",
       "      <th>Accuracy</th>\n",
       "      <th>Macro_Precision</th>\n",
       "      <th>Micro_Precision</th>\n",
       "      <th>Macro_Recall</th>\n",
       "      <th>Micro_Recall</th>\n",
       "      <th>Macro_F1</th>\n",
       "      <th>Micro_F1</th>\n",
       "      <th>Model_Name</th>\n",
       "      <th>Prediction_Time</th>\n",
       "      <th>Test_Accuracy</th>\n",
       "      <th>Test_Macro_Precision</th>\n",
       "      <th>Test_Micro_Precision</th>\n",
       "      <th>Test_Macro_F1</th>\n",
       "      <th>Test_Micro_F1</th>\n",
       "      <th>Test_Macro_Recall</th>\n",
       "      <th>Test_Micro_Recall</th>\n",
       "    </tr>\n",
       "  </thead>\n",
       "  <tbody>\n",
       "    <tr>\n",
       "      <th>6</th>\n",
       "      <td>{'clf__boosting_type': 'goss', 'clf__min_child...</td>\n",
       "      <td>0.989+-0.001</td>\n",
       "      <td>0.989+-0.001</td>\n",
       "      <td>0.989+-0.001</td>\n",
       "      <td>0.989+-0.001</td>\n",
       "      <td>0.989+-0.001</td>\n",
       "      <td>0.989+-0.001</td>\n",
       "      <td>0.989+-0.001</td>\n",
       "      <td>lgbm</td>\n",
       "      <td>1.203244</td>\n",
       "      <td>0.9899</td>\n",
       "      <td>0.989878</td>\n",
       "      <td>0.9899</td>\n",
       "      <td>0.989907</td>\n",
       "      <td>0.9899</td>\n",
       "      <td>0.990006</td>\n",
       "      <td>0.9899</td>\n",
       "    </tr>\n",
       "  </tbody>\n",
       "</table>\n",
       "</div>"
      ],
      "text/plain": [
       "                                     Parameters_Dict      Accuracy  \\\n",
       "6  {'clf__boosting_type': 'goss', 'clf__min_child...  0.989+-0.001   \n",
       "\n",
       "  Macro_Precision Micro_Precision  Macro_Recall  Micro_Recall      Macro_F1  \\\n",
       "6    0.989+-0.001    0.989+-0.001  0.989+-0.001  0.989+-0.001  0.989+-0.001   \n",
       "\n",
       "       Micro_F1 Model_Name  Prediction_Time  Test_Accuracy  \\\n",
       "6  0.989+-0.001       lgbm         1.203244         0.9899   \n",
       "\n",
       "   Test_Macro_Precision  Test_Micro_Precision  Test_Macro_F1  Test_Micro_F1  \\\n",
       "6              0.989878                0.9899       0.989907         0.9899   \n",
       "\n",
       "   Test_Macro_Recall  Test_Micro_Recall  \n",
       "6           0.990006             0.9899  "
      ]
     },
     "execution_count": 38,
     "metadata": {},
     "output_type": "execute_result"
    }
   ],
   "source": [
    "lgbm_metrics = train_and_evaluate('lgbm')\n",
    "evaluation_df = evaluation_df.append(lgbm_metrics, ignore_index = True)\n",
    "evaluation_df[evaluation_df['Model_Name'] == 'lgbm']"
   ]
  },
  {
   "cell_type": "code",
   "execution_count": 39,
   "id": "e4389564",
   "metadata": {
    "execution": {
     "iopub.execute_input": "2023-07-07T14:44:23.838051Z",
     "iopub.status.busy": "2023-07-07T14:44:23.837107Z",
     "iopub.status.idle": "2023-07-07T14:44:23.842884Z",
     "shell.execute_reply": "2023-07-07T14:44:23.841974Z"
    },
    "papermill": {
     "duration": 0.036527,
     "end_time": "2023-07-07T14:44:23.845845",
     "exception": false,
     "start_time": "2023-07-07T14:44:23.809318",
     "status": "completed"
    },
    "tags": []
   },
   "outputs": [
    {
     "name": "stdout",
     "output_type": "stream",
     "text": [
      "lgbm completed\n"
     ]
    }
   ],
   "source": [
    "print(\"lgbm completed\")"
   ]
  },
  {
   "cell_type": "markdown",
   "id": "443bb96b",
   "metadata": {
    "id": "uXJrrCTe08nv",
    "papermill": {
     "duration": 0.02695,
     "end_time": "2023-07-07T14:44:23.899969",
     "exception": false,
     "start_time": "2023-07-07T14:44:23.873019",
     "status": "completed"
    },
    "tags": []
   },
   "source": [
    "## Evaluation Using metrics of different models"
   ]
  },
  {
   "cell_type": "code",
   "execution_count": 41,
   "id": "de1427d9",
   "metadata": {
    "execution": {
     "iopub.execute_input": "2023-07-07T14:44:24.040541Z",
     "iopub.status.busy": "2023-07-07T14:44:24.040098Z",
     "iopub.status.idle": "2023-07-07T14:44:24.050016Z",
     "shell.execute_reply": "2023-07-07T14:44:24.048976Z"
    },
    "id": "nJt6J9Lxsdqb",
    "papermill": {
     "duration": 0.041673,
     "end_time": "2023-07-07T14:44:24.052501",
     "exception": false,
     "start_time": "2023-07-07T14:44:24.010828",
     "status": "completed"
    },
    "tags": []
   },
   "outputs": [],
   "source": [
    "evaluation_df.set_index('Model_Name', inplace = True)\n",
    "evaluation_df.to_csv(\"./Evaluation_Metrics.csv\")\n",
    "\n",
    "evaluation_df['Train_Accuracy'] = evaluation_df['Accuracy'].apply(lambda x: float(x.split('+-')[0]))"
   ]
  },
  {
   "cell_type": "code",
   "execution_count": 43,
   "id": "4b389991",
   "metadata": {
    "execution": {
     "iopub.execute_input": "2023-07-07T14:44:24.177278Z",
     "iopub.status.busy": "2023-07-07T14:44:24.176764Z",
     "iopub.status.idle": "2023-07-07T14:44:24.206178Z",
     "shell.execute_reply": "2023-07-07T14:44:24.205109Z"
    },
    "papermill": {
     "duration": 0.059975,
     "end_time": "2023-07-07T14:44:24.208399",
     "exception": false,
     "start_time": "2023-07-07T14:44:24.148424",
     "status": "completed"
    },
    "tags": []
   },
   "outputs": [
    {
     "data": {
      "text/html": [
       "<div>\n",
       "<style scoped>\n",
       "    .dataframe tbody tr th:only-of-type {\n",
       "        vertical-align: middle;\n",
       "    }\n",
       "\n",
       "    .dataframe tbody tr th {\n",
       "        vertical-align: top;\n",
       "    }\n",
       "\n",
       "    .dataframe thead th {\n",
       "        text-align: right;\n",
       "    }\n",
       "</style>\n",
       "<table border=\"1\" class=\"dataframe\">\n",
       "  <thead>\n",
       "    <tr style=\"text-align: right;\">\n",
       "      <th></th>\n",
       "      <th>Parameters_Dict</th>\n",
       "      <th>Accuracy</th>\n",
       "      <th>Macro_Precision</th>\n",
       "      <th>Micro_Precision</th>\n",
       "      <th>Macro_Recall</th>\n",
       "      <th>Micro_Recall</th>\n",
       "      <th>Macro_F1</th>\n",
       "      <th>Micro_F1</th>\n",
       "      <th>Prediction_Time</th>\n",
       "      <th>Test_Accuracy</th>\n",
       "      <th>Test_Macro_Precision</th>\n",
       "      <th>Test_Micro_Precision</th>\n",
       "      <th>Test_Macro_F1</th>\n",
       "      <th>Test_Micro_F1</th>\n",
       "      <th>Test_Macro_Recall</th>\n",
       "      <th>Test_Micro_Recall</th>\n",
       "      <th>Train_Accuracy</th>\n",
       "    </tr>\n",
       "    <tr>\n",
       "      <th>Model_Name</th>\n",
       "      <th></th>\n",
       "      <th></th>\n",
       "      <th></th>\n",
       "      <th></th>\n",
       "      <th></th>\n",
       "      <th></th>\n",
       "      <th></th>\n",
       "      <th></th>\n",
       "      <th></th>\n",
       "      <th></th>\n",
       "      <th></th>\n",
       "      <th></th>\n",
       "      <th></th>\n",
       "      <th></th>\n",
       "      <th></th>\n",
       "      <th></th>\n",
       "      <th></th>\n",
       "    </tr>\n",
       "  </thead>\n",
       "  <tbody>\n",
       "    <tr>\n",
       "      <th>logistic_reg</th>\n",
       "      <td>{'clf__max_iter': 1000, 'clf__penalty': 'l2'}</td>\n",
       "      <td>0.839+-0.006</td>\n",
       "      <td>0.842+-0.006</td>\n",
       "      <td>0.839+-0.006</td>\n",
       "      <td>0.839+-0.006</td>\n",
       "      <td>0.839+-0.006</td>\n",
       "      <td>0.840+-0.006</td>\n",
       "      <td>0.839+-0.006</td>\n",
       "      <td>0.030510</td>\n",
       "      <td>0.831632</td>\n",
       "      <td>0.835864</td>\n",
       "      <td>0.831632</td>\n",
       "      <td>0.833107</td>\n",
       "      <td>0.831632</td>\n",
       "      <td>0.831771</td>\n",
       "      <td>0.831632</td>\n",
       "      <td>0.839</td>\n",
       "    </tr>\n",
       "    <tr>\n",
       "      <th>svc</th>\n",
       "      <td>{'clf__C': 200, 'clf__kernel': 'rbf'}</td>\n",
       "      <td>0.991+-0.001</td>\n",
       "      <td>0.991+-0.001</td>\n",
       "      <td>0.991+-0.001</td>\n",
       "      <td>0.991+-0.001</td>\n",
       "      <td>0.991+-0.001</td>\n",
       "      <td>0.991+-0.001</td>\n",
       "      <td>0.991+-0.001</td>\n",
       "      <td>4.177809</td>\n",
       "      <td>0.991010</td>\n",
       "      <td>0.990984</td>\n",
       "      <td>0.991010</td>\n",
       "      <td>0.991017</td>\n",
       "      <td>0.991010</td>\n",
       "      <td>0.991070</td>\n",
       "      <td>0.991010</td>\n",
       "      <td>0.991</td>\n",
       "    </tr>\n",
       "    <tr>\n",
       "      <th>knn</th>\n",
       "      <td>{'clf__leaf_size': 3, 'clf__n_neighbors': 3, '...</td>\n",
       "      <td>0.984+-0.001</td>\n",
       "      <td>0.984+-0.001</td>\n",
       "      <td>0.984+-0.001</td>\n",
       "      <td>0.984+-0.001</td>\n",
       "      <td>0.984+-0.001</td>\n",
       "      <td>0.984+-0.001</td>\n",
       "      <td>0.984+-0.001</td>\n",
       "      <td>20.074598</td>\n",
       "      <td>0.985017</td>\n",
       "      <td>0.985029</td>\n",
       "      <td>0.985017</td>\n",
       "      <td>0.985019</td>\n",
       "      <td>0.985017</td>\n",
       "      <td>0.985155</td>\n",
       "      <td>0.985017</td>\n",
       "      <td>0.984</td>\n",
       "    </tr>\n",
       "    <tr>\n",
       "      <th>tree</th>\n",
       "      <td>{'clf__max_depth': 70, 'clf__min_samples_split...</td>\n",
       "      <td>0.963+-0.002</td>\n",
       "      <td>0.963+-0.002</td>\n",
       "      <td>0.963+-0.002</td>\n",
       "      <td>0.963+-0.002</td>\n",
       "      <td>0.963+-0.002</td>\n",
       "      <td>0.963+-0.002</td>\n",
       "      <td>0.963+-0.002</td>\n",
       "      <td>0.022266</td>\n",
       "      <td>0.965039</td>\n",
       "      <td>0.965127</td>\n",
       "      <td>0.965039</td>\n",
       "      <td>0.965104</td>\n",
       "      <td>0.965039</td>\n",
       "      <td>0.965086</td>\n",
       "      <td>0.965039</td>\n",
       "      <td>0.963</td>\n",
       "    </tr>\n",
       "    <tr>\n",
       "      <th>rfc</th>\n",
       "      <td>{'clf__max_depth': 50, 'clf__max_features': 'l...</td>\n",
       "      <td>0.983+-0.001</td>\n",
       "      <td>0.983+-0.001</td>\n",
       "      <td>0.983+-0.001</td>\n",
       "      <td>0.983+-0.001</td>\n",
       "      <td>0.983+-0.001</td>\n",
       "      <td>0.983+-0.001</td>\n",
       "      <td>0.983+-0.001</td>\n",
       "      <td>2.053893</td>\n",
       "      <td>0.983907</td>\n",
       "      <td>0.983910</td>\n",
       "      <td>0.983907</td>\n",
       "      <td>0.983918</td>\n",
       "      <td>0.983907</td>\n",
       "      <td>0.984063</td>\n",
       "      <td>0.983907</td>\n",
       "      <td>0.983</td>\n",
       "    </tr>\n",
       "    <tr>\n",
       "      <th>xg_boost</th>\n",
       "      <td>{'clf__learning_rate': 0.5, 'clf__max_depth': ...</td>\n",
       "      <td>0.988+-0.001</td>\n",
       "      <td>0.988+-0.001</td>\n",
       "      <td>0.988+-0.001</td>\n",
       "      <td>0.988+-0.001</td>\n",
       "      <td>0.988+-0.001</td>\n",
       "      <td>0.988+-0.001</td>\n",
       "      <td>0.988+-0.001</td>\n",
       "      <td>0.264851</td>\n",
       "      <td>0.989123</td>\n",
       "      <td>0.989109</td>\n",
       "      <td>0.989123</td>\n",
       "      <td>0.989136</td>\n",
       "      <td>0.989123</td>\n",
       "      <td>0.989236</td>\n",
       "      <td>0.989123</td>\n",
       "      <td>0.988</td>\n",
       "    </tr>\n",
       "    <tr>\n",
       "      <th>lgbm</th>\n",
       "      <td>{'clf__boosting_type': 'goss', 'clf__min_child...</td>\n",
       "      <td>0.989+-0.001</td>\n",
       "      <td>0.989+-0.001</td>\n",
       "      <td>0.989+-0.001</td>\n",
       "      <td>0.989+-0.001</td>\n",
       "      <td>0.989+-0.001</td>\n",
       "      <td>0.989+-0.001</td>\n",
       "      <td>0.989+-0.001</td>\n",
       "      <td>1.203244</td>\n",
       "      <td>0.989900</td>\n",
       "      <td>0.989878</td>\n",
       "      <td>0.989900</td>\n",
       "      <td>0.989907</td>\n",
       "      <td>0.989900</td>\n",
       "      <td>0.990006</td>\n",
       "      <td>0.989900</td>\n",
       "      <td>0.989</td>\n",
       "    </tr>\n",
       "  </tbody>\n",
       "</table>\n",
       "</div>"
      ],
      "text/plain": [
       "                                                Parameters_Dict      Accuracy  \\\n",
       "Model_Name                                                                      \n",
       "logistic_reg      {'clf__max_iter': 1000, 'clf__penalty': 'l2'}  0.839+-0.006   \n",
       "svc                       {'clf__C': 200, 'clf__kernel': 'rbf'}  0.991+-0.001   \n",
       "knn           {'clf__leaf_size': 3, 'clf__n_neighbors': 3, '...  0.984+-0.001   \n",
       "tree          {'clf__max_depth': 70, 'clf__min_samples_split...  0.963+-0.002   \n",
       "rfc           {'clf__max_depth': 50, 'clf__max_features': 'l...  0.983+-0.001   \n",
       "xg_boost      {'clf__learning_rate': 0.5, 'clf__max_depth': ...  0.988+-0.001   \n",
       "lgbm          {'clf__boosting_type': 'goss', 'clf__min_child...  0.989+-0.001   \n",
       "\n",
       "             Macro_Precision Micro_Precision  Macro_Recall  Micro_Recall  \\\n",
       "Model_Name                                                                 \n",
       "logistic_reg    0.842+-0.006    0.839+-0.006  0.839+-0.006  0.839+-0.006   \n",
       "svc             0.991+-0.001    0.991+-0.001  0.991+-0.001  0.991+-0.001   \n",
       "knn             0.984+-0.001    0.984+-0.001  0.984+-0.001  0.984+-0.001   \n",
       "tree            0.963+-0.002    0.963+-0.002  0.963+-0.002  0.963+-0.002   \n",
       "rfc             0.983+-0.001    0.983+-0.001  0.983+-0.001  0.983+-0.001   \n",
       "xg_boost        0.988+-0.001    0.988+-0.001  0.988+-0.001  0.988+-0.001   \n",
       "lgbm            0.989+-0.001    0.989+-0.001  0.989+-0.001  0.989+-0.001   \n",
       "\n",
       "                  Macro_F1      Micro_F1  Prediction_Time  Test_Accuracy  \\\n",
       "Model_Name                                                                 \n",
       "logistic_reg  0.840+-0.006  0.839+-0.006         0.030510       0.831632   \n",
       "svc           0.991+-0.001  0.991+-0.001         4.177809       0.991010   \n",
       "knn           0.984+-0.001  0.984+-0.001        20.074598       0.985017   \n",
       "tree          0.963+-0.002  0.963+-0.002         0.022266       0.965039   \n",
       "rfc           0.983+-0.001  0.983+-0.001         2.053893       0.983907   \n",
       "xg_boost      0.988+-0.001  0.988+-0.001         0.264851       0.989123   \n",
       "lgbm          0.989+-0.001  0.989+-0.001         1.203244       0.989900   \n",
       "\n",
       "              Test_Macro_Precision  Test_Micro_Precision  Test_Macro_F1  \\\n",
       "Model_Name                                                                \n",
       "logistic_reg              0.835864              0.831632       0.833107   \n",
       "svc                       0.990984              0.991010       0.991017   \n",
       "knn                       0.985029              0.985017       0.985019   \n",
       "tree                      0.965127              0.965039       0.965104   \n",
       "rfc                       0.983910              0.983907       0.983918   \n",
       "xg_boost                  0.989109              0.989123       0.989136   \n",
       "lgbm                      0.989878              0.989900       0.989907   \n",
       "\n",
       "              Test_Micro_F1  Test_Macro_Recall  Test_Micro_Recall  \\\n",
       "Model_Name                                                          \n",
       "logistic_reg       0.831632           0.831771           0.831632   \n",
       "svc                0.991010           0.991070           0.991010   \n",
       "knn                0.985017           0.985155           0.985017   \n",
       "tree               0.965039           0.965086           0.965039   \n",
       "rfc                0.983907           0.984063           0.983907   \n",
       "xg_boost           0.989123           0.989236           0.989123   \n",
       "lgbm               0.989900           0.990006           0.989900   \n",
       "\n",
       "              Train_Accuracy  \n",
       "Model_Name                    \n",
       "logistic_reg           0.839  \n",
       "svc                    0.991  \n",
       "knn                    0.984  \n",
       "tree                   0.963  \n",
       "rfc                    0.983  \n",
       "xg_boost               0.988  \n",
       "lgbm                   0.989  "
      ]
     },
     "execution_count": 43,
     "metadata": {},
     "output_type": "execute_result"
    }
   ],
   "source": [
    "evaluation_df"
   ]
  },
  {
   "cell_type": "code",
   "execution_count": 45,
   "id": "ee43a22d",
   "metadata": {
    "execution": {
     "iopub.execute_input": "2023-07-07T14:44:24.330488Z",
     "iopub.status.busy": "2023-07-07T14:44:24.330049Z",
     "iopub.status.idle": "2023-07-07T14:44:26.483507Z",
     "shell.execute_reply": "2023-07-07T14:44:26.482476Z"
    },
    "id": "vJZvq3Yzgqyr",
    "outputId": "46b3ec75-0137-4651-c62c-ec8dcfdd80cc",
    "papermill": {
     "duration": 2.185272,
     "end_time": "2023-07-07T14:44:26.485994",
     "exception": false,
     "start_time": "2023-07-07T14:44:24.300722",
     "status": "completed"
    },
    "tags": []
   },
   "outputs": [
    {
     "data": {
      "image/png": "[encoded data removed]",
      "text/plain": [
       "<Figure size 1512x1152 with 9 Axes>"
      ]
     },
     "metadata": {
      "needs_background": "light"
     },
     "output_type": "display_data"
    }
   ],
   "source": [
    "# Metrics for plotting\n",
    "metrics_cols = ['Prediction_Time', 'Train_Accuracy', 'Test_Accuracy', 'Test_Macro_Precision', 'Test_Micro_Precision',\n",
    "       'Test_Macro_F1', 'Test_Micro_F1', 'Test_Macro_Recall',\n",
    "       'Test_Micro_Recall']\n",
    "\n",
    "\n",
    "fig, axes = plt.subplots(3, 3)\n",
    "fig.set_figheight(16)\n",
    "fig.set_figwidth(21)\n",
    "axarr = axes.flat\n",
    "for idx, ax in enumerate(axarr):\n",
    "    axis = sns.barplot(\n",
    "        x = evaluation_df.index,\n",
    "        y = evaluation_df[metrics_cols[idx]],\n",
    "        ax = ax\n",
    "    )\n",
    "    axis.set_title(metrics_cols[idx], fontdict = {'family': 'Serif', 'fontsize': 20})\n",
    "    if(idx > 1):\n",
    "        axis.set_ylim(bottom = 0.8, top = 1.0)\n",
    "plt.subplots_adjust(\n",
    "left=0.1,\n",
    "bottom = 0.1,\n",
    "right=0.9,\n",
    "top = 0.9,\n",
    "wspace=0.2,\n",
    "hspace = 0.3    \n",
    ")\n",
    "plt.savefig('Evaluation bar plots.jpeg')"
   ]
  },
  {
   "cell_type": "markdown",
   "id": "50eb9b01",
   "metadata": {
    "id": "7i25zuAZwJUs",
    "papermill": {
     "duration": 0.030048,
     "end_time": "2023-07-07T14:44:26.546817",
     "exception": false,
     "start_time": "2023-07-07T14:44:26.516769",
     "status": "completed"
    },
    "tags": []
   },
   "source": [
    "## Observations from Evaluation\n",
    "    -> Support Vector Classifier gives the best performance with XGBoost and LightGBM not too far behind.\n",
    "    -> Logistic Regression shows poor performance in terms of metrics, while KNN takes too much time to make predictions.\n",
    "    -> We shall consider prediction time, accuracy_score and F1_Score to decide best model for the classification.\n",
    "    -> Considering evaluation metrics, SVC shall be chosen, being the best. But, with XGBoost having almost as high accuracy as SVC, and considerably lower time taken for predictions, XGBoost model shall be chosen as the final model for our web application."
   ]
  },
  {
   "cell_type": "markdown",
   "id": "b0c2839e",
   "metadata": {},
   "source": [
    "# <center>Thank You </center>"
   ]
  }
 ],
 "metadata": {
  "kernelspec": {
   "display_name": "Python 3",
   "language": "python",
   "name": "python3"
  },
  "language_info": {
   "codemirror_mode": {
    "name": "ipython",
    "version": 3
   },
   "file_extension": ".py",
   "mimetype": "text/x-python",
   "name": "python",
   "nbconvert_exporter": "python",
   "pygments_lexer": "ipython3",
   "version": "3.7.12"
  },
  "papermill": {
   "default_parameters": {},
   "duration": 32389.513355,
   "end_time": "2023-07-07T14:44:27.680872",
   "environment_variables": {},
   "exception": null,
   "input_path": "__notebook__.ipynb",
   "output_path": "__notebook__.ipynb",
   "parameters": {},
   "start_time": "2023-07-07T05:44:38.167517",
   "version": "2.3.4"
  }
 },
 "nbformat": 4,
 "nbformat_minor": 5
}
